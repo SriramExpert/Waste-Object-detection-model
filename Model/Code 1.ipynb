{
 "cells": [
  {
   "cell_type": "code",
   "execution_count": 3,
   "id": "9af3100b-0d07-4cd5-b921-432074711096",
   "metadata": {},
   "outputs": [
    {
     "name": "stdout",
     "output_type": "stream",
     "text": [
      "Train: 175, Val: 50, Test: 26\n"
     ]
    }
   ],
   "source": [
    "import os\n",
    "import shutil\n",
    "import random\n",
    "\n",
    "# Paths\n",
    "original_images = \"C:\\\\Users\\\\Sriram\\\\Desktop\\\\Garbage_folder\\\\images\"\n",
    "original_labels = \"C:\\\\Users\\\\Sriram\\\\Desktop\\\\Garbage_folder\\\\labels\"\n",
    "dataset_dir = \"C:\\\\Users\\\\Sriram\\\\Desktop\\\\Garbage_folder\"\n",
    "\n",
    "# Create folders\n",
    "for split in [\"train\", \"val\", \"test\"]:\n",
    "    os.makedirs(f\"{dataset_dir}/{split}/images\", exist_ok=True)\n",
    "    os.makedirs(f\"{dataset_dir}/{split}/labels\", exist_ok=True)\n",
    "\n",
    "# Get all image files (assuming .jpg/.png)\n",
    "image_files = [f for f in os.listdir(original_images) if f.endswith(('.jpg', '.png'))]\n",
    "random.shuffle(image_files)  # Shuffle randomly\n",
    "\n",
    "# Split ratios (e.g., 70% train, 20% val, 10% test)\n",
    "train_split = int(0.7 * len(image_files))\n",
    "val_split = int(0.2 * len(image_files))\n",
    "\n",
    "train_files = image_files[:train_split]\n",
    "val_files = image_files[train_split:train_split + val_split]\n",
    "test_files = image_files[train_split + val_split:]\n",
    "\n",
    "# Copy images and labels to respective folders\n",
    "def copy_files(files, split):\n",
    "    for file in files:\n",
    "        # Copy image\n",
    "        shutil.copy2(\n",
    "            os.path.join(original_images, file),\n",
    "            os.path.join(dataset_dir, split, \"images\", file)\n",
    "        )\n",
    "        # Copy corresponding label (assume .txt for YOLO)\n",
    "        label_file = os.path.splitext(file)[0] + \".txt\"\n",
    "        shutil.copy2(\n",
    "            os.path.join(original_labels, label_file),\n",
    "            os.path.join(dataset_dir, split, \"labels\", label_file)\n",
    "        )\n",
    "\n",
    "copy_files(train_files, \"train\")\n",
    "copy_files(val_files, \"val\")\n",
    "copy_files(test_files, \"test\")\n",
    "\n",
    "print(f\"Train: {len(train_files)}, Val: {len(val_files)}, Test: {len(test_files)}\")"
   ]
  },
  {
   "cell_type": "code",
   "execution_count": 7,
   "id": "72b8ef91-c40c-4c1a-8b4e-3cd0b0e39d9a",
   "metadata": {},
   "outputs": [
    {
     "name": "stdout",
     "output_type": "stream",
     "text": [
      "TRAIN: 0 missing labels: []...\n",
      "VAL: 0 missing labels: []...\n",
      "TEST: 0 missing labels: []...\n"
     ]
    }
   ],
   "source": [
    "import os\n",
    "\n",
    "def check_missing_labels(dataset_path):\n",
    "    for split in [\"train\", \"val\", \"test\"]:\n",
    "        image_dir = os.path.join(dataset_path, split, \"images\")\n",
    "        label_dir = os.path.join(dataset_path, split, \"labels\")\n",
    "        images = set(os.path.splitext(f)[0] for f in os.listdir(image_dir))\n",
    "        labels = set(os.path.splitext(f)[0] for f in os.listdir(label_dir))\n",
    "        missing = images - labels\n",
    "        print(f\"{split.upper()}: {len(missing)} missing labels: {list(missing)[:5]}...\")\n",
    "\n",
    "check_missing_labels(\"C:\\\\Users\\\\Sriram\\\\Desktop\\\\Garbage_folder\")"
   ]
  },
  {
   "cell_type": "code",
   "execution_count": 6,
   "id": "47687429-25ac-4aa5-af83-dc62778f0796",
   "metadata": {},
   "outputs": [
    {
     "name": "stdout",
     "output_type": "stream",
     "text": [
      "Removed image with missing label: C:\\Users\\Sriram\\Desktop\\Garbage_folder\\train\\images\\paper340_jpg.rf.90a0202e5e08e2af8c58befaeeec0020.jpg\n"
     ]
    }
   ],
   "source": [
    "import os\n",
    "\n",
    "# Remove the image with missing label\n",
    "image_path = \"C:\\\\Users\\\\Sriram\\\\Desktop\\\\Garbage_folder\\\\train\\\\images\\\\paper340_jpg.rf.90a0202e5e08e2af8c58befaeeec0020.jpg\"\n",
    "if os.path.exists(image_path):\n",
    "    os.remove(image_path)\n",
    "    print(\"Removed image with missing label:\", image_path)"
   ]
  },
  {
   "cell_type": "code",
   "execution_count": 8,
   "id": "a86ad730-47eb-48c5-9aa7-40015dbd1bd6",
   "metadata": {},
   "outputs": [
    {
     "name": "stdout",
     "output_type": "stream",
     "text": [
      "TRAIN:\n",
      "  Images: train\\images exists? True\n",
      "  Labels: train\\labels exists? True\n",
      "VAL:\n",
      "  Images: val\\images exists? True\n",
      "  Labels: val\\labels exists? True\n",
      "TEST:\n",
      "  Images: test\\images exists? True\n",
      "  Labels: test\\labels exists? True\n"
     ]
    }
   ],
   "source": [
    "import os\n",
    "\n",
    "splits = [\"train\", \"val\", \"test\"]\n",
    "for split in splits:\n",
    "    img_dir = os.path.join(split, \"images\")\n",
    "    label_dir = os.path.join(split, \"labels\")\n",
    "    print(f\"{split.upper()}:\")\n",
    "    print(f\"  Images: {img_dir} exists? {os.path.exists(img_dir)}\")\n",
    "    print(f\"  Labels: {label_dir} exists? {os.path.exists(label_dir)}\")"
   ]
  },
  {
   "cell_type": "code",
   "execution_count": null,
   "id": "8b4a686d-ec4a-4dfd-b129-0dbb20068479",
   "metadata": {},
   "outputs": [],
   "source": []
  }
 ],
 "metadata": {
  "kernelspec": {
   "display_name": "Python 3 (ipykernel)",
   "language": "python",
   "name": "python3"
  },
  "language_info": {
   "codemirror_mode": {
    "name": "ipython",
    "version": 3
   },
   "file_extension": ".py",
   "mimetype": "text/x-python",
   "name": "python",
   "nbconvert_exporter": "python",
   "pygments_lexer": "ipython3",
   "version": "3.11.7"
  }
 },
 "nbformat": 4,
 "nbformat_minor": 5
}
