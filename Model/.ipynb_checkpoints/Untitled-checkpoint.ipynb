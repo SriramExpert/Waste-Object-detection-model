{
 "cells": [
  {
   "cell_type": "code",
   "execution_count": 1,
   "id": "9af3100b-0d07-4cd5-b921-432074711096",
   "metadata": {},
   "outputs": [
    {
     "ename": "SyntaxError",
     "evalue": "(unicode error) 'unicodeescape' codec can't decode bytes in position 2-3: truncated \\UXXXXXXXX escape (3665063800.py, line 8)",
     "output_type": "error",
     "traceback": [
      "  \u001b[36mCell\u001b[39m\u001b[36m \u001b[39m\u001b[32mIn[1]\u001b[39m\u001b[32m, line 8\u001b[39m\n\u001b[31m    \u001b[39m\u001b[31mdataset_dir = \"C:\\Users\\Sriram\\Desktop\\Garbage_folder\"\u001b[39m\n                                                          ^\n\u001b[31mSyntaxError\u001b[39m\u001b[31m:\u001b[39m (unicode error) 'unicodeescape' codec can't decode bytes in position 2-3: truncated \\UXXXXXXXX escape\n"
     ]
    }
   ],
   "source": [
    "import os\n",
    "import shutil\n",
    "import random\n",
    "\n",
    "# Paths\n",
    "original_images = \"C:\\\\Users\\\\Sriram\\\\Desktop\\\\Garbage_folder\\\\images\"\n",
    "original_labels = \"C:\\\\Users\\\\Sriram\\\\Desktop\\\\Garbage_folder\\\\images\\\\labels\"\n",
    "dataset_dir = \"C:\\\\Users\\\\Sriram\\\\Desktop\\\\Garbage_folder\"\n",
    "\n",
    "# Create folders\n",
    "for split in [\"train\", \"val\", \"test\"]:\n",
    "    os.makedirs(f\"{dataset_dir}/{split}/images\", exist_ok=True)\n",
    "    os.makedirs(f\"{dataset_dir}/{split}/labels\", exist_ok=True)\n",
    "\n",
    "# Get all image files (assuming .jpg/.png)\n",
    "image_files = [f for f in os.listdir(original_images) if f.endswith(('.jpg', '.png'))]\n",
    "random.shuffle(image_files)  # Shuffle randomly\n",
    "\n",
    "# Split ratios (e.g., 70% train, 20% val, 10% test)\n",
    "train_split = int(0.7 * len(image_files))\n",
    "val_split = int(0.2 * len(image_files))\n",
    "\n",
    "train_files = image_files[:train_split]\n",
    "val_files = image_files[train_split:train_split + val_split]\n",
    "test_files = image_files[train_split + val_split:]\n",
    "\n",
    "# Copy images and labels to respective folders\n",
    "def copy_files(files, split):\n",
    "    for file in files:\n",
    "        # Copy image\n",
    "        shutil.copy2(\n",
    "            os.path.join(original_images, file),\n",
    "            os.path.join(dataset_dir, split, \"images\", file)\n",
    "        )\n",
    "        # Copy corresponding label (assume .txt for YOLO)\n",
    "        label_file = os.path.splitext(file)[0] + \".txt\"\n",
    "        shutil.copy2(\n",
    "            os.path.join(original_labels, label_file),\n",
    "            os.path.join(dataset_dir, split, \"labels\", label_file)\n",
    "        )\n",
    "\n",
    "copy_files(train_files, \"train\")\n",
    "copy_files(val_files, \"val\")\n",
    "copy_files(test_files, \"test\")\n",
    "\n",
    "print(f\"Train: {len(train_files)}, Val: {len(val_files)}, Test: {len(test_files)}\")"
   ]
  },
  {
   "cell_type": "code",
   "execution_count": null,
   "id": "72b8ef91-c40c-4c1a-8b4e-3cd0b0e39d9a",
   "metadata": {},
   "outputs": [],
   "source": []
  }
 ],
 "metadata": {
  "kernelspec": {
   "display_name": "Python 3 (ipykernel)",
   "language": "python",
   "name": "python3"
  },
  "language_info": {
   "codemirror_mode": {
    "name": "ipython",
    "version": 3
   },
   "file_extension": ".py",
   "mimetype": "text/x-python",
   "name": "python",
   "nbconvert_exporter": "python",
   "pygments_lexer": "ipython3",
   "version": "3.11.7"
  }
 },
 "nbformat": 4,
 "nbformat_minor": 5
}
