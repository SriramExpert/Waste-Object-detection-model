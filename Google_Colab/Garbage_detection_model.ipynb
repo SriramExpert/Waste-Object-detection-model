{
  "cells": [
    {
      "cell_type": "markdown",
      "metadata": {
        "id": "view-in-github",
        "colab_type": "text"
      },
      "source": [
        "<a href=\"https://colab.research.google.com/github/SriramExpert/Waste-Object-detection-model/blob/main/Google_Colab/Garbage_detection_model.ipynb\" target=\"_parent\"><img src=\"https://colab.research.google.com/assets/colab-badge.svg\" alt=\"Open In Colab\"/></a>"
      ]
    },
    {
      "cell_type": "markdown",
      "metadata": {
        "id": "pyja_E_TRrbF"
      },
      "source": [
        "# **🚀 Overview**\n",
        "This notebook provides an end-to-end pipeline for training/fine-tuning and inferencing with a YOLO-based object detection model. Key features:\n",
        "\n",
        "      ✔ Load custom datasets in YOLO format\n",
        "\n",
        "      ✔ Train/fine-tune a model (optional)\n",
        "\n",
        "      ✔ Run inference on images/videos\n",
        "\n",
        "      ✔ Visualize results\n"
      ]
    },
    {
      "cell_type": "markdown",
      "metadata": {
        "id": "ZZ5kl0FySBXn"
      },
      "source": [
        "# **📂 Dataset Structure (YOLO Format)**\n",
        "\n",
        "        dataset/  \n",
        "        ├── images/          # Training images (.jpg, .png)  \n",
        "        │   ├── train/  \n",
        "        │   └── val/  \n",
        "        └── labels/          # YOLO annotation files (.txt)  \n",
        "            ├── train/  \n",
        "            └── val/  "
      ]
    },
    {
      "cell_type": "markdown",
      "metadata": {
        "id": "Dz9cVMyNSX4C"
      },
      "source": [
        "**Step 1:** MOUNT YOUR GOOGLE DRIVE"
      ]
    },
    {
      "cell_type": "code",
      "execution_count": null,
      "metadata": {
        "colab": {
          "base_uri": "https://localhost:8080/"
        },
        "id": "ktYx_vwVQpX9",
        "outputId": "e8080c58-1844-4f56-e733-5bb8aa1e3b1d"
      },
      "outputs": [
        {
          "name": "stdout",
          "output_type": "stream",
          "text": [
            "Drive already mounted at /content/drive; to attempt to forcibly remount, call drive.mount(\"/content/drive\", force_remount=True).\n"
          ]
        }
      ],
      "source": [
        "from google.colab import drive\n",
        "drive.mount('/content/drive')"
      ]
    },
    {
      "cell_type": "markdown",
      "metadata": {
        "id": "d6E_d2H2SwbM"
      },
      "source": [
        "**Step 2:** VERIFY YOUR RUNTIME ENVIRONMENT"
      ]
    },
    {
      "cell_type": "markdown",
      "metadata": {
        "id": "6uLt7V1fS-5m"
      },
      "source": [
        "      Go to Edit -> Notebook settings -> T4(GPU)"
      ]
    },
    {
      "cell_type": "code",
      "execution_count": null,
      "metadata": {
        "colab": {
          "base_uri": "https://localhost:8080/"
        },
        "id": "YNkoX2NdVJ0O",
        "outputId": "ee613240-8b4b-4267-8fc1-ce12830f6d7c"
      },
      "outputs": [
        {
          "name": "stdout",
          "output_type": "stream",
          "text": [
            "Mon Jul  7 10:49:49 2025       \n",
            "+-----------------------------------------------------------------------------------------+\n",
            "| NVIDIA-SMI 550.54.15              Driver Version: 550.54.15      CUDA Version: 12.4     |\n",
            "|-----------------------------------------+------------------------+----------------------+\n",
            "| GPU  Name                 Persistence-M | Bus-Id          Disp.A | Volatile Uncorr. ECC |\n",
            "| Fan  Temp   Perf          Pwr:Usage/Cap |           Memory-Usage | GPU-Util  Compute M. |\n",
            "|                                         |                        |               MIG M. |\n",
            "|=========================================+========================+======================|\n",
            "|   0  Tesla T4                       Off |   00000000:00:04.0 Off |                    0 |\n",
            "| N/A   49C    P8              9W /   70W |       0MiB /  15360MiB |      0%      Default |\n",
            "|                                         |                        |                  N/A |\n",
            "+-----------------------------------------+------------------------+----------------------+\n",
            "                                                                                         \n",
            "+-----------------------------------------------------------------------------------------+\n",
            "| Processes:                                                                              |\n",
            "|  GPU   GI   CI        PID   Type   Process name                              GPU Memory |\n",
            "|        ID   ID                                                               Usage      |\n",
            "|=========================================================================================|\n",
            "|  No running processes found                                                             |\n",
            "+-----------------------------------------------------------------------------------------+\n"
          ]
        }
      ],
      "source": [
        "!nvidia-smi"
      ]
    },
    {
      "cell_type": "markdown",
      "metadata": {
        "id": "INjMR5SDXkJe"
      },
      "source": [
        "**Step 3:** Create the folder in drive"
      ]
    },
    {
      "cell_type": "code",
      "execution_count": null,
      "metadata": {
        "colab": {
          "base_uri": "https://localhost:8080/"
        },
        "id": "Hb-x5DtTYDOh",
        "outputId": "2f00ed86-dc4a-4fd1-964d-d0c8a9ac13d5"
      },
      "outputs": [
        {
          "name": "stdout",
          "output_type": "stream",
          "text": [
            "Drive already mounted at /content/drive; to attempt to forcibly remount, call drive.mount(\"/content/drive\", force_remount=True).\n",
            "Folder created: /content/drive/MyDrive/Garbage_detection_model\n"
          ]
        }
      ],
      "source": [
        "from google.colab import drive\n",
        "drive.mount('/content/drive')  # Mount Google Drive\n",
        "\n",
        "# Create the folder (if it doesn't exist)\n",
        "!mkdir -p \"/content/drive/MyDrive/Garbage_detection_model\"\n",
        "\n",
        "print(\"Folder created: /content/drive/MyDrive/Garbage_detection_model\")"
      ]
    },
    {
      "cell_type": "markdown",
      "metadata": {
        "id": "BJjdUQ0Rg4_V"
      },
      "source": [
        "**Step 4:** Clone my Repository for images and labels"
      ]
    },
    {
      "cell_type": "markdown",
      "source": [
        "place the images and label in Garbage_detection_model folder\n"
      ],
      "metadata": {
        "id": "qf2R1vKr-4X6"
      }
    },
    {
      "cell_type": "markdown",
      "metadata": {
        "id": "o2JQ0abPYK2r"
      },
      "source": [
        "**Step 5:** Place the images and label folder in created repository and verify the images and label folder exists in Garbage_detection_model"
      ]
    },
    {
      "cell_type": "code",
      "execution_count": null,
      "metadata": {
        "colab": {
          "base_uri": "https://localhost:8080/"
        },
        "id": "sc_OB2hmYnKW",
        "outputId": "a4adadf3-8510-4e1b-f40b-ef0d653fe7b8"
      },
      "outputs": [
        {
          "name": "stdout",
          "output_type": "stream",
          "text": [
            "Directory found: /content/drive/MyDrive/Garbage_detection_model\n",
            "All required folders exist!\n",
            "\n",
            "Folder contents:\n",
            "images/: 251 files\n",
            "labels/: 251 files\n"
          ]
        }
      ],
      "source": [
        "import os\n",
        "\n",
        "# Path to your Garbage_detection_model folder in Google Drive\n",
        "target_dir = \"/content/drive/MyDrive/Garbage_detection_model\"\n",
        "\n",
        "# Check if directory exists\n",
        "if not os.path.exists(target_dir):\n",
        "    print(f\"Error: Directory '{target_dir}' does not exist!\")\n",
        "else:\n",
        "    print(f\"Directory found: {target_dir}\")\n",
        "\n",
        "    # Verify images and labels folders\n",
        "    required_folders = ['images', 'labels']\n",
        "    missing_folders = [folder for folder in required_folders\n",
        "                      if not os.path.exists(os.path.join(target_dir, folder))]\n",
        "\n",
        "    if missing_folders:\n",
        "        print(f\"Missing folders: {', '.join(missing_folders)}\")\n",
        "    else:\n",
        "        print(\"All required folders exist!\")\n",
        "        print(\"\\nFolder contents:\")\n",
        "        for folder in required_folders:\n",
        "            files = os.listdir(os.path.join(target_dir, folder))\n",
        "            print(f\"{folder}/: {len(files)} files\")"
      ]
    },
    {
      "cell_type": "markdown",
      "metadata": {
        "id": "0Ru-_kTHVVYH"
      },
      "source": [
        "# **Ok lets starts our Model**"
      ]
    },
    {
      "cell_type": "markdown",
      "metadata": {
        "id": "NSmeEMnmVcsg"
      },
      "source": [
        "**1. INSTALLATION**"
      ]
    },
    {
      "cell_type": "code",
      "execution_count": null,
      "metadata": {
        "colab": {
          "base_uri": "https://localhost:8080/"
        },
        "id": "HI2MncJcVl8A",
        "outputId": "ff52a6ce-f6f8-4182-8e87-63e8fcf7ccaa"
      },
      "outputs": [
        {
          "name": "stdout",
          "output_type": "stream",
          "text": [
            "Collecting ultralytics\n",
            "  Downloading ultralytics-8.3.162-py3-none-any.whl.metadata (37 kB)\n",
            "Requirement already satisfied: numpy>=1.23.0 in /usr/local/lib/python3.11/dist-packages (from ultralytics) (2.0.2)\n",
            "Requirement already satisfied: matplotlib>=3.3.0 in /usr/local/lib/python3.11/dist-packages (from ultralytics) (3.10.0)\n",
            "Requirement already satisfied: opencv-python>=4.6.0 in /usr/local/lib/python3.11/dist-packages (from ultralytics) (4.11.0.86)\n",
            "Requirement already satisfied: pillow>=7.1.2 in /usr/local/lib/python3.11/dist-packages (from ultralytics) (11.2.1)\n",
            "Requirement already satisfied: pyyaml>=5.3.1 in /usr/local/lib/python3.11/dist-packages (from ultralytics) (6.0.2)\n",
            "Requirement already satisfied: requests>=2.23.0 in /usr/local/lib/python3.11/dist-packages (from ultralytics) (2.32.3)\n",
            "Requirement already satisfied: scipy>=1.4.1 in /usr/local/lib/python3.11/dist-packages (from ultralytics) (1.15.3)\n",
            "Requirement already satisfied: torch>=1.8.0 in /usr/local/lib/python3.11/dist-packages (from ultralytics) (2.6.0+cu124)\n",
            "Requirement already satisfied: torchvision>=0.9.0 in /usr/local/lib/python3.11/dist-packages (from ultralytics) (0.21.0+cu124)\n",
            "Requirement already satisfied: tqdm>=4.64.0 in /usr/local/lib/python3.11/dist-packages (from ultralytics) (4.67.1)\n",
            "Requirement already satisfied: psutil in /usr/local/lib/python3.11/dist-packages (from ultralytics) (5.9.5)\n",
            "Requirement already satisfied: py-cpuinfo in /usr/local/lib/python3.11/dist-packages (from ultralytics) (9.0.0)\n",
            "Requirement already satisfied: pandas>=1.1.4 in /usr/local/lib/python3.11/dist-packages (from ultralytics) (2.2.2)\n",
            "Collecting ultralytics-thop>=2.0.0 (from ultralytics)\n",
            "  Downloading ultralytics_thop-2.0.14-py3-none-any.whl.metadata (9.4 kB)\n",
            "Requirement already satisfied: contourpy>=1.0.1 in /usr/local/lib/python3.11/dist-packages (from matplotlib>=3.3.0->ultralytics) (1.3.2)\n",
            "Requirement already satisfied: cycler>=0.10 in /usr/local/lib/python3.11/dist-packages (from matplotlib>=3.3.0->ultralytics) (0.12.1)\n",
            "Requirement already satisfied: fonttools>=4.22.0 in /usr/local/lib/python3.11/dist-packages (from matplotlib>=3.3.0->ultralytics) (4.58.4)\n",
            "Requirement already satisfied: kiwisolver>=1.3.1 in /usr/local/lib/python3.11/dist-packages (from matplotlib>=3.3.0->ultralytics) (1.4.8)\n",
            "Requirement already satisfied: packaging>=20.0 in /usr/local/lib/python3.11/dist-packages (from matplotlib>=3.3.0->ultralytics) (24.2)\n",
            "Requirement already satisfied: pyparsing>=2.3.1 in /usr/local/lib/python3.11/dist-packages (from matplotlib>=3.3.0->ultralytics) (3.2.3)\n",
            "Requirement already satisfied: python-dateutil>=2.7 in /usr/local/lib/python3.11/dist-packages (from matplotlib>=3.3.0->ultralytics) (2.9.0.post0)\n",
            "Requirement already satisfied: pytz>=2020.1 in /usr/local/lib/python3.11/dist-packages (from pandas>=1.1.4->ultralytics) (2025.2)\n",
            "Requirement already satisfied: tzdata>=2022.7 in /usr/local/lib/python3.11/dist-packages (from pandas>=1.1.4->ultralytics) (2025.2)\n",
            "Requirement already satisfied: charset-normalizer<4,>=2 in /usr/local/lib/python3.11/dist-packages (from requests>=2.23.0->ultralytics) (3.4.2)\n",
            "Requirement already satisfied: idna<4,>=2.5 in /usr/local/lib/python3.11/dist-packages (from requests>=2.23.0->ultralytics) (3.10)\n",
            "Requirement already satisfied: urllib3<3,>=1.21.1 in /usr/local/lib/python3.11/dist-packages (from requests>=2.23.0->ultralytics) (2.4.0)\n",
            "Requirement already satisfied: certifi>=2017.4.17 in /usr/local/lib/python3.11/dist-packages (from requests>=2.23.0->ultralytics) (2025.6.15)\n",
            "Requirement already satisfied: filelock in /usr/local/lib/python3.11/dist-packages (from torch>=1.8.0->ultralytics) (3.18.0)\n",
            "Requirement already satisfied: typing-extensions>=4.10.0 in /usr/local/lib/python3.11/dist-packages (from torch>=1.8.0->ultralytics) (4.14.0)\n",
            "Requirement already satisfied: networkx in /usr/local/lib/python3.11/dist-packages (from torch>=1.8.0->ultralytics) (3.5)\n",
            "Requirement already satisfied: jinja2 in /usr/local/lib/python3.11/dist-packages (from torch>=1.8.0->ultralytics) (3.1.6)\n",
            "Requirement already satisfied: fsspec in /usr/local/lib/python3.11/dist-packages (from torch>=1.8.0->ultralytics) (2025.3.2)\n",
            "Collecting nvidia-cuda-nvrtc-cu12==12.4.127 (from torch>=1.8.0->ultralytics)\n",
            "  Downloading nvidia_cuda_nvrtc_cu12-12.4.127-py3-none-manylinux2014_x86_64.whl.metadata (1.5 kB)\n",
            "Collecting nvidia-cuda-runtime-cu12==12.4.127 (from torch>=1.8.0->ultralytics)\n",
            "  Downloading nvidia_cuda_runtime_cu12-12.4.127-py3-none-manylinux2014_x86_64.whl.metadata (1.5 kB)\n",
            "Collecting nvidia-cuda-cupti-cu12==12.4.127 (from torch>=1.8.0->ultralytics)\n",
            "  Downloading nvidia_cuda_cupti_cu12-12.4.127-py3-none-manylinux2014_x86_64.whl.metadata (1.6 kB)\n",
            "Collecting nvidia-cudnn-cu12==9.1.0.70 (from torch>=1.8.0->ultralytics)\n",
            "  Downloading nvidia_cudnn_cu12-9.1.0.70-py3-none-manylinux2014_x86_64.whl.metadata (1.6 kB)\n",
            "Collecting nvidia-cublas-cu12==12.4.5.8 (from torch>=1.8.0->ultralytics)\n",
            "  Downloading nvidia_cublas_cu12-12.4.5.8-py3-none-manylinux2014_x86_64.whl.metadata (1.5 kB)\n",
            "Collecting nvidia-cufft-cu12==11.2.1.3 (from torch>=1.8.0->ultralytics)\n",
            "  Downloading nvidia_cufft_cu12-11.2.1.3-py3-none-manylinux2014_x86_64.whl.metadata (1.5 kB)\n",
            "Collecting nvidia-curand-cu12==10.3.5.147 (from torch>=1.8.0->ultralytics)\n",
            "  Downloading nvidia_curand_cu12-10.3.5.147-py3-none-manylinux2014_x86_64.whl.metadata (1.5 kB)\n",
            "Collecting nvidia-cusolver-cu12==11.6.1.9 (from torch>=1.8.0->ultralytics)\n",
            "  Downloading nvidia_cusolver_cu12-11.6.1.9-py3-none-manylinux2014_x86_64.whl.metadata (1.6 kB)\n",
            "Collecting nvidia-cusparse-cu12==12.3.1.170 (from torch>=1.8.0->ultralytics)\n",
            "  Downloading nvidia_cusparse_cu12-12.3.1.170-py3-none-manylinux2014_x86_64.whl.metadata (1.6 kB)\n",
            "Requirement already satisfied: nvidia-cusparselt-cu12==0.6.2 in /usr/local/lib/python3.11/dist-packages (from torch>=1.8.0->ultralytics) (0.6.2)\n",
            "Requirement already satisfied: nvidia-nccl-cu12==2.21.5 in /usr/local/lib/python3.11/dist-packages (from torch>=1.8.0->ultralytics) (2.21.5)\n",
            "Requirement already satisfied: nvidia-nvtx-cu12==12.4.127 in /usr/local/lib/python3.11/dist-packages (from torch>=1.8.0->ultralytics) (12.4.127)\n",
            "Collecting nvidia-nvjitlink-cu12==12.4.127 (from torch>=1.8.0->ultralytics)\n",
            "  Downloading nvidia_nvjitlink_cu12-12.4.127-py3-none-manylinux2014_x86_64.whl.metadata (1.5 kB)\n",
            "Requirement already satisfied: triton==3.2.0 in /usr/local/lib/python3.11/dist-packages (from torch>=1.8.0->ultralytics) (3.2.0)\n",
            "Requirement already satisfied: sympy==1.13.1 in /usr/local/lib/python3.11/dist-packages (from torch>=1.8.0->ultralytics) (1.13.1)\n",
            "Requirement already satisfied: mpmath<1.4,>=1.1.0 in /usr/local/lib/python3.11/dist-packages (from sympy==1.13.1->torch>=1.8.0->ultralytics) (1.3.0)\n",
            "Requirement already satisfied: six>=1.5 in /usr/local/lib/python3.11/dist-packages (from python-dateutil>=2.7->matplotlib>=3.3.0->ultralytics) (1.17.0)\n",
            "Requirement already satisfied: MarkupSafe>=2.0 in /usr/local/lib/python3.11/dist-packages (from jinja2->torch>=1.8.0->ultralytics) (3.0.2)\n",
            "Downloading ultralytics-8.3.162-py3-none-any.whl (1.0 MB)\n",
            "\u001b[2K   \u001b[90m━━━━━━━━━━━━━━━━━━━━━━━━━━━━━━━━━━━━━━━━\u001b[0m \u001b[32m1.0/1.0 MB\u001b[0m \u001b[31m32.0 MB/s\u001b[0m eta \u001b[36m0:00:00\u001b[0m\n",
            "\u001b[?25hDownloading nvidia_cublas_cu12-12.4.5.8-py3-none-manylinux2014_x86_64.whl (363.4 MB)\n",
            "\u001b[2K   \u001b[90m━━━━━━━━━━━━━━━━━━━━━━━━━━━━━━━━━━━━━━━━\u001b[0m \u001b[32m363.4/363.4 MB\u001b[0m \u001b[31m4.5 MB/s\u001b[0m eta \u001b[36m0:00:00\u001b[0m\n",
            "\u001b[?25hDownloading nvidia_cuda_cupti_cu12-12.4.127-py3-none-manylinux2014_x86_64.whl (13.8 MB)\n",
            "\u001b[2K   \u001b[90m━━━━━━━━━━━━━━━━━━━━━━━━━━━━━━━━━━━━━━━━\u001b[0m \u001b[32m13.8/13.8 MB\u001b[0m \u001b[31m89.4 MB/s\u001b[0m eta \u001b[36m0:00:00\u001b[0m\n",
            "\u001b[?25hDownloading nvidia_cuda_nvrtc_cu12-12.4.127-py3-none-manylinux2014_x86_64.whl (24.6 MB)\n",
            "\u001b[2K   \u001b[90m━━━━━━━━━━━━━━━━━━━━━━━━━━━━━━━━━━━━━━━━\u001b[0m \u001b[32m24.6/24.6 MB\u001b[0m \u001b[31m68.3 MB/s\u001b[0m eta \u001b[36m0:00:00\u001b[0m\n",
            "\u001b[?25hDownloading nvidia_cuda_runtime_cu12-12.4.127-py3-none-manylinux2014_x86_64.whl (883 kB)\n",
            "\u001b[2K   \u001b[90m━━━━━━━━━━━━━━━━━━━━━━━━━━━━━━━━━━━━━━━━\u001b[0m \u001b[32m883.7/883.7 kB\u001b[0m \u001b[31m55.1 MB/s\u001b[0m eta \u001b[36m0:00:00\u001b[0m\n",
            "\u001b[?25hDownloading nvidia_cudnn_cu12-9.1.0.70-py3-none-manylinux2014_x86_64.whl (664.8 MB)\n",
            "\u001b[2K   \u001b[90m━━━━━━━━━━━━━━━━━━━━━━━━━━━━━━━━━━━━━━━━\u001b[0m \u001b[32m664.8/664.8 MB\u001b[0m \u001b[31m1.4 MB/s\u001b[0m eta \u001b[36m0:00:00\u001b[0m\n",
            "\u001b[?25hDownloading nvidia_cufft_cu12-11.2.1.3-py3-none-manylinux2014_x86_64.whl (211.5 MB)\n",
            "\u001b[2K   \u001b[90m━━━━━━━━━━━━━━━━━━━━━━━━━━━━━━━━━━━━━━━━\u001b[0m \u001b[32m211.5/211.5 MB\u001b[0m \u001b[31m5.6 MB/s\u001b[0m eta \u001b[36m0:00:00\u001b[0m\n",
            "\u001b[?25hDownloading nvidia_curand_cu12-10.3.5.147-py3-none-manylinux2014_x86_64.whl (56.3 MB)\n",
            "\u001b[2K   \u001b[90m━━━━━━━━━━━━━━━━━━━━━━━━━━━━━━━━━━━━━━━━\u001b[0m \u001b[32m56.3/56.3 MB\u001b[0m \u001b[31m13.4 MB/s\u001b[0m eta \u001b[36m0:00:00\u001b[0m\n",
            "\u001b[?25hDownloading nvidia_cusolver_cu12-11.6.1.9-py3-none-manylinux2014_x86_64.whl (127.9 MB)\n",
            "\u001b[2K   \u001b[90m━━━━━━━━━━━━━━━━━━━━━━━━━━━━━━━━━━━━━━━━\u001b[0m \u001b[32m127.9/127.9 MB\u001b[0m \u001b[31m7.4 MB/s\u001b[0m eta \u001b[36m0:00:00\u001b[0m\n",
            "\u001b[?25hDownloading nvidia_cusparse_cu12-12.3.1.170-py3-none-manylinux2014_x86_64.whl (207.5 MB)\n",
            "\u001b[2K   \u001b[90m━━━━━━━━━━━━━━━━━━━━━━━━━━━━━━━━━━━━━━━━\u001b[0m \u001b[32m207.5/207.5 MB\u001b[0m \u001b[31m5.5 MB/s\u001b[0m eta \u001b[36m0:00:00\u001b[0m\n",
            "\u001b[?25hDownloading nvidia_nvjitlink_cu12-12.4.127-py3-none-manylinux2014_x86_64.whl (21.1 MB)\n",
            "\u001b[2K   \u001b[90m━━━━━━━━━━━━━━━━━━━━━━━━━━━━━━━━━━━━━━━━\u001b[0m \u001b[32m21.1/21.1 MB\u001b[0m \u001b[31m43.9 MB/s\u001b[0m eta \u001b[36m0:00:00\u001b[0m\n",
            "\u001b[?25hDownloading ultralytics_thop-2.0.14-py3-none-any.whl (26 kB)\n",
            "Installing collected packages: nvidia-nvjitlink-cu12, nvidia-curand-cu12, nvidia-cufft-cu12, nvidia-cuda-runtime-cu12, nvidia-cuda-nvrtc-cu12, nvidia-cuda-cupti-cu12, nvidia-cublas-cu12, nvidia-cusparse-cu12, nvidia-cudnn-cu12, nvidia-cusolver-cu12, ultralytics-thop, ultralytics\n",
            "  Attempting uninstall: nvidia-nvjitlink-cu12\n",
            "    Found existing installation: nvidia-nvjitlink-cu12 12.5.82\n",
            "    Uninstalling nvidia-nvjitlink-cu12-12.5.82:\n",
            "      Successfully uninstalled nvidia-nvjitlink-cu12-12.5.82\n",
            "  Attempting uninstall: nvidia-curand-cu12\n",
            "    Found existing installation: nvidia-curand-cu12 10.3.6.82\n",
            "    Uninstalling nvidia-curand-cu12-10.3.6.82:\n",
            "      Successfully uninstalled nvidia-curand-cu12-10.3.6.82\n",
            "  Attempting uninstall: nvidia-cufft-cu12\n",
            "    Found existing installation: nvidia-cufft-cu12 11.2.3.61\n",
            "    Uninstalling nvidia-cufft-cu12-11.2.3.61:\n",
            "      Successfully uninstalled nvidia-cufft-cu12-11.2.3.61\n",
            "  Attempting uninstall: nvidia-cuda-runtime-cu12\n",
            "    Found existing installation: nvidia-cuda-runtime-cu12 12.5.82\n",
            "    Uninstalling nvidia-cuda-runtime-cu12-12.5.82:\n",
            "      Successfully uninstalled nvidia-cuda-runtime-cu12-12.5.82\n",
            "  Attempting uninstall: nvidia-cuda-nvrtc-cu12\n",
            "    Found existing installation: nvidia-cuda-nvrtc-cu12 12.5.82\n",
            "    Uninstalling nvidia-cuda-nvrtc-cu12-12.5.82:\n",
            "      Successfully uninstalled nvidia-cuda-nvrtc-cu12-12.5.82\n",
            "  Attempting uninstall: nvidia-cuda-cupti-cu12\n",
            "    Found existing installation: nvidia-cuda-cupti-cu12 12.5.82\n",
            "    Uninstalling nvidia-cuda-cupti-cu12-12.5.82:\n",
            "      Successfully uninstalled nvidia-cuda-cupti-cu12-12.5.82\n",
            "  Attempting uninstall: nvidia-cublas-cu12\n",
            "    Found existing installation: nvidia-cublas-cu12 12.5.3.2\n",
            "    Uninstalling nvidia-cublas-cu12-12.5.3.2:\n",
            "      Successfully uninstalled nvidia-cublas-cu12-12.5.3.2\n",
            "  Attempting uninstall: nvidia-cusparse-cu12\n",
            "    Found existing installation: nvidia-cusparse-cu12 12.5.1.3\n",
            "    Uninstalling nvidia-cusparse-cu12-12.5.1.3:\n",
            "      Successfully uninstalled nvidia-cusparse-cu12-12.5.1.3\n",
            "  Attempting uninstall: nvidia-cudnn-cu12\n",
            "    Found existing installation: nvidia-cudnn-cu12 9.3.0.75\n",
            "    Uninstalling nvidia-cudnn-cu12-9.3.0.75:\n",
            "      Successfully uninstalled nvidia-cudnn-cu12-9.3.0.75\n",
            "  Attempting uninstall: nvidia-cusolver-cu12\n",
            "    Found existing installation: nvidia-cusolver-cu12 11.6.3.83\n",
            "    Uninstalling nvidia-cusolver-cu12-11.6.3.83:\n",
            "      Successfully uninstalled nvidia-cusolver-cu12-11.6.3.83\n",
            "Successfully installed nvidia-cublas-cu12-12.4.5.8 nvidia-cuda-cupti-cu12-12.4.127 nvidia-cuda-nvrtc-cu12-12.4.127 nvidia-cuda-runtime-cu12-12.4.127 nvidia-cudnn-cu12-9.1.0.70 nvidia-cufft-cu12-11.2.1.3 nvidia-curand-cu12-10.3.5.147 nvidia-cusolver-cu12-11.6.1.9 nvidia-cusparse-cu12-12.3.1.170 nvidia-nvjitlink-cu12-12.4.127 ultralytics-8.3.162 ultralytics-thop-2.0.14\n"
          ]
        }
      ],
      "source": [
        "!pip install ultralytics"
      ]
    },
    {
      "cell_type": "markdown",
      "metadata": {
        "id": "92r9YliyVmdq"
      },
      "source": [
        "**2. Dataset Preparation – Train/Val/Test Split**\n",
        "\n",
        "\n",
        "\n",
        "   This script organizes a custom YOLO dataset by splitting images and their corresponding labels into structured training (70%), validation (20%), and test (10%) sets. It automatically creates the necessary directory structure and ensures each image is matched with its correct annotation file. The randomized shuffling guarantees balanced data distribution across all splits for effective model training and evaluation.\n"
      ]
    },
    {
      "cell_type": "code",
      "execution_count": null,
      "metadata": {
        "colab": {
          "base_uri": "https://localhost:8080/"
        },
        "id": "bMk2guB5XdN4",
        "outputId": "da76f5ec-172b-4546-821e-35860c9bb39f"
      },
      "outputs": [
        {
          "name": "stdout",
          "output_type": "stream",
          "text": [
            "Drive already mounted at /content/drive; to attempt to forcibly remount, call drive.mount(\"/content/drive\", force_remount=True).\n",
            "Verifying source directories...\n",
            "✓ Source directories verified\n",
            "\n",
            "Creating dataset structure...\n",
            "✓ Dataset structure created\n",
            "\n",
            "Copying files...\n",
            "\n",
            "Dataset split complete:\n",
            "Total images: 251\n",
            "Train set: 175 images (70%)\n",
            "Validation set: 50 images (20%)\n",
            "Test set: 26 images (10%)\n",
            "\n",
            "Verifying destination files...\n",
            "TRAIN: 175 images, 175 labels (✓)\n",
            "VAL: 50 images, 50 labels (✓)\n",
            "TEST: 26 images, 26 labels (✓)\n"
          ]
        }
      ],
      "source": [
        "import os\n",
        "import shutil\n",
        "import random\n",
        "from google.colab import drive\n",
        "\n",
        "# Mount Google Drive\n",
        "drive.mount('/content/drive')\n",
        "\n",
        "# Updated Paths for Google Drive\n",
        "base_dir = \"/content/drive/MyDrive/Garbage_detection_model\"\n",
        "original_images = os.path.join(base_dir, \"images\")\n",
        "original_labels = os.path.join(base_dir, \"labels\")\n",
        "dataset_dir = base_dir\n",
        "\n",
        "# Verify source folders exist\n",
        "print(\"Verifying source directories...\")\n",
        "assert os.path.exists(original_images), f\"Images folder not found at {original_images}\"\n",
        "assert os.path.exists(original_labels), f\"Labels folder not found at {original_labels}\"\n",
        "print(\"✓ Source directories verified\\n\")\n",
        "\n",
        "# Create train/val/test folders\n",
        "print(\"Creating dataset structure...\")\n",
        "for split in [\"train\", \"val\", \"test\"]:\n",
        "    os.makedirs(os.path.join(dataset_dir, split, \"images\"), exist_ok=True)\n",
        "    os.makedirs(os.path.join(dataset_dir, split, \"labels\"), exist_ok=True)\n",
        "print(\"✓ Dataset structure created\\n\")\n",
        "\n",
        "# Get and shuffle image files\n",
        "image_files = [f for f in os.listdir(original_images) if f.lower().endswith(('.jpg', '.png', '.jpeg'))]\n",
        "random.shuffle(image_files)\n",
        "\n",
        "# Split dataset (70-20-10)\n",
        "total_files = len(image_files)\n",
        "train_split = int(0.7 * total_files)\n",
        "val_split = int(0.2 * total_files)\n",
        "\n",
        "train_files = image_files[:train_split]\n",
        "val_files = image_files[train_split:train_split + val_split]\n",
        "test_files = image_files[train_split + val_split:]\n",
        "\n",
        "def copy_files(files, split):\n",
        "    \"\"\"Helper function to copy files with verification\"\"\"\n",
        "    for file in files:\n",
        "        # Copy image\n",
        "        img_src = os.path.join(original_images, file)\n",
        "        img_dest = os.path.join(dataset_dir, split, \"images\", file)\n",
        "        shutil.copy2(img_src, img_dest)\n",
        "\n",
        "        # Copy corresponding label\n",
        "        label_file = os.path.splitext(file)[0] + \".txt\"\n",
        "        label_src = os.path.join(original_labels, label_file)\n",
        "        label_dest = os.path.join(dataset_dir, split, \"labels\", label_file)\n",
        "\n",
        "        if not os.path.exists(label_src):\n",
        "            print(f\"⚠ Warning: Missing label for {file}\")\n",
        "        else:\n",
        "            shutil.copy2(label_src, label_dest)\n",
        "\n",
        "# Copy files to respective folders\n",
        "print(\"Copying files...\")\n",
        "copy_files(train_files, \"train\")\n",
        "copy_files(val_files, \"val\")\n",
        "copy_files(test_files, \"test\")\n",
        "\n",
        "# Final summary\n",
        "print(\"\\nDataset split complete:\")\n",
        "print(f\"Total images: {total_files}\")\n",
        "print(f\"Train set: {len(train_files)} images ({len(train_files)/total_files:.0%})\")\n",
        "print(f\"Validation set: {len(val_files)} images ({len(val_files)/total_files:.0%})\")\n",
        "print(f\"Test set: {len(test_files)} images ({len(test_files)/total_files:.0%})\")\n",
        "\n",
        "# Verification\n",
        "print(\"\\nVerifying destination files...\")\n",
        "for split in [\"train\", \"val\", \"test\"]:\n",
        "    imgs = len(os.listdir(os.path.join(dataset_dir, split, \"images\")))\n",
        "    lbls = len(os.listdir(os.path.join(dataset_dir, split, \"labels\")))\n",
        "    print(f\"{split.upper()}: {imgs} images, {lbls} labels ({'✓' if imgs==lbls else '⚠ Mismatch!'})\")"
      ]
    },
    {
      "cell_type": "markdown",
      "metadata": {
        "id": "qNNZG-UPeKRh"
      },
      "source": [
        "**3. Dataset Validation & Cleaning**\n",
        "\n",
        "    Verifies image-label pairs and handles mismatches to ensure dataset integrity."
      ]
    },
    {
      "cell_type": "code",
      "execution_count": null,
      "metadata": {
        "colab": {
          "base_uri": "https://localhost:8080/"
        },
        "id": "zCVbZpksfHXF",
        "outputId": "12d2ce97-47ac-4f51-9b7a-70ffe4b4d7bf"
      },
      "outputs": [
        {
          "name": "stdout",
          "output_type": "stream",
          "text": [
            "TRAIN: 0 missing labels: []...\n",
            "VAL: 0 missing labels: []...\n",
            "TEST: 0 missing labels: []...\n"
          ]
        }
      ],
      "source": [
        "import os\n",
        "\n",
        "def check_missing_labels(dataset_path):\n",
        "    \"\"\"Identifies images without corresponding label files in train/val/test splits\"\"\"\n",
        "    for split in [\"train\", \"val\", \"test\"]:\n",
        "        image_dir = os.path.join(dataset_path, split, \"images\")\n",
        "        label_dir = os.path.join(dataset_path, split, \"labels\")\n",
        "\n",
        "        # Get filenames without extensions\n",
        "        images = set(os.path.splitext(f)[0] for f in os.listdir(image_dir))\n",
        "        labels = set(os.path.splitext(f)[0] for f in os.listdir(label_dir))\n",
        "\n",
        "        missing = images - labels\n",
        "        print(f\"{split.upper()}: {len(missing)} missing labels: {list(missing)[:5]}...\")\n",
        "\n",
        "check_missing_labels(\"/content/drive/MyDrive/Garbage_detection_model\")"
      ]
    },
    {
      "cell_type": "markdown",
      "metadata": {
        "id": "ogD99qmAfNPN"
      },
      "source": [
        "Note: If any mismatches in the above output..\n",
        "\n",
        "          TRAIN: 3 missing labels: ['paper340_jpg.rf.90a0202', 'plastic12_jpg.rf.a1b2c3d', ...]\n",
        "          VAL: 0 missing labels: []\n",
        "          TEST: 1 missing labels: ['metal8_jpg.rf.x7y8z9']\n",
        "\n",
        "Like this.. Run the below code"
      ]
    },
    {
      "cell_type": "code",
      "execution_count": null,
      "metadata": {
        "id": "eBx4I12yfuPh"
      },
      "outputs": [],
      "source": [
        "import os\n",
        "\n",
        "def remove_unpaired_files(dataset_path):\n",
        "    \"\"\"Deletes images without corresponding labels and vice versa\"\"\"\n",
        "    for split in [\"train\", \"val\", \"test\"]:\n",
        "        image_dir = os.path.join(dataset_path, split, \"images\")\n",
        "        label_dir = os.path.join(dataset_path, split, \"labels\")\n",
        "\n",
        "        # Get filename stems\n",
        "        images = {os.path.splitext(f)[0] for f in os.listdir(image_dir)}\n",
        "        labels = {os.path.splitext(f)[0] for f in os.listdir(label_dir)}\n",
        "\n",
        "        # Remove unpaired images\n",
        "        for missing in images - labels:\n",
        "            img_path = os.path.join(image_dir, f\"{missing}.jpg\")\n",
        "            os.remove(img_path)\n",
        "            print(f\"Removed unpaired image: {img_path}\")\n",
        "\n",
        "        # Remove unpaired labels\n",
        "        for missing in labels - images:\n",
        "            lbl_path = os.path.join(label_dir, f\"{missing}.txt\")\n",
        "            os.remove(lbl_path)\n",
        "            print(f\"Removed unpaired label: {lbl_path}\")\n",
        "\n",
        "remove_unpaired_files(\"/content/drive/MyDrive/Garbage_detection_model\")"
      ]
    },
    {
      "cell_type": "markdown",
      "metadata": {
        "id": "vHY21EBff5PT"
      },
      "source": [
        "Complete the above step and\n",
        "\n",
        "**Again Re-run the step 3**"
      ]
    },
    {
      "cell_type": "markdown",
      "metadata": {
        "id": "p7TwL5wkgTVV"
      },
      "source": [
        "**4. Dataset Structure Verification**\n",
        "\n",
        "        Validates the existence of required image/label folders in all dataset splits\n",
        "\n",
        "        Purpose\n",
        "        This code checks whether your dataset is properly organized with the correct folder structure before training:\n",
        "\n",
        "        Ensures images and labels subfolders exist in each split (train, val, test)\n",
        "\n",
        "        Helps catch missing directories early to prevent training errors"
      ]
    },
    {
      "cell_type": "markdown",
      "metadata": {
        "id": "u46MBWxkgizS"
      },
      "source": [
        "# **📂 Dataset Structure (YOLO Format)**\n",
        "              dataset/  \n",
        "              ├── images/          # Training images (.jpg, .png)  \n",
        "              │   ├── train/  \n",
        "              │   └── val/  \n",
        "              └── labels/          # YOLO annotation files (.txt)  \n",
        "                  ├── train/  \n",
        "                  └── val/  "
      ]
    },
    {
      "cell_type": "code",
      "execution_count": null,
      "metadata": {
        "colab": {
          "base_uri": "https://localhost:8080/"
        },
        "id": "qKaBKCvagw2J",
        "outputId": "d7585589-0867-4787-bef2-97ad694413fc"
      },
      "outputs": [
        {
          "name": "stdout",
          "output_type": "stream",
          "text": [
            "TRAIN:\n",
            "  Images: /content/drive/MyDrive/Garbage_detection_model/train/images exists? True\n",
            "  Labels: /content/drive/MyDrive/Garbage_detection_model/train/labels exists? True\n",
            "VAL:\n",
            "  Images: /content/drive/MyDrive/Garbage_detection_model/val/images exists? True\n",
            "  Labels: /content/drive/MyDrive/Garbage_detection_model/val/labels exists? True\n",
            "TEST:\n",
            "  Images: /content/drive/MyDrive/Garbage_detection_model/test/images exists? True\n",
            "  Labels: /content/drive/MyDrive/Garbage_detection_model/test/labels exists? True\n"
          ]
        }
      ],
      "source": [
        "import os\n",
        "\n",
        "splits = [\"train\", \"val\", \"test\"]\n",
        "base_path = \"/content/drive/MyDrive/Garbage_detection_model\"\n",
        "\n",
        "for split in splits:\n",
        "    img_dir = os.path.join(base_path, split, \"images\")\n",
        "    label_dir = os.path.join(base_path, split, \"labels\")\n",
        "    print(f\"{split.upper()}:\")\n",
        "    print(f\"  Images: {img_dir} exists? {os.path.exists(img_dir)}\")\n",
        "    print(f\"  Labels: {label_dir} exists? {os.path.exists(label_dir)}\")"
      ]
    },
    {
      "cell_type": "markdown",
      "metadata": {
        "id": "1L6zsYoeg13x"
      },
      "source": [
        "**5. Dataset Configuration (data.yaml)**\n",
        "\n",
        "    Creates the YAML configuration file required for YOLOv8 training"
      ]
    },
    {
      "cell_type": "code",
      "execution_count": null,
      "metadata": {
        "colab": {
          "base_uri": "https://localhost:8080/"
        },
        "id": "y08K0qvTiHJQ",
        "outputId": "edd04436-5012-41a3-aa49-87178462ec8f"
      },
      "outputs": [
        {
          "name": "stdout",
          "output_type": "stream",
          "text": [
            "✅ YAML configuration saved to:\n",
            "/content/drive/MyDrive/Garbage_detection_model/data.yaml\n",
            "\n",
            "File content:\n",
            "path: /content/drive/MyDrive/Garbage_detection_model\n",
            "train: train/images\n",
            "val: val/images\n",
            "test: test/images\n",
            "nc: 6\n",
            "names:\n",
            "- Metal\n",
            "- Paper\n",
            "- Plastic\n",
            "- Random Trash\n",
            "- cardboard\n",
            "- glass\n",
            "\n"
          ]
        }
      ],
      "source": [
        "import yaml\n",
        "import os\n",
        "\n",
        "# Configuration\n",
        "config = {\n",
        "    'path': '/content/drive/MyDrive/Garbage_detection_model',  # Base dataset path\n",
        "    'train': 'train/images',\n",
        "    'val': 'val/images',\n",
        "    'test': 'test/images',\n",
        "    'nc': 6,\n",
        "    'names': ['Metal', 'Paper', 'Plastic', 'Random Trash', 'cardboard', 'glass']\n",
        "}\n",
        "\n",
        "# Create directory if not exists\n",
        "os.makedirs(config['path'], exist_ok=True)\n",
        "\n",
        "# Save YAML file\n",
        "yaml_path = os.path.join(config['path'], 'data.yaml')\n",
        "with open(yaml_path, 'w') as f:\n",
        "    yaml.dump(config, f, sort_keys=False)\n",
        "\n",
        "print(f\"✅ YAML configuration saved to:\\n{yaml_path}\")\n",
        "print(\"\\nFile content:\")\n",
        "with open(yaml_path, 'r') as f:\n",
        "    print(f.read())"
      ]
    },
    {
      "cell_type": "markdown",
      "metadata": {
        "id": "TRjXk7BriQnp"
      },
      "source": [
        "**6. Model Training with YOLOv8**\n",
        "\n",
        "      Train your custom garbage detection model using Ultralytics YOLOv8"
      ]
    },
    {
      "cell_type": "code",
      "execution_count": null,
      "metadata": {
        "colab": {
          "base_uri": "https://localhost:8080/"
        },
        "id": "gOtddQHOiKfJ",
        "outputId": "d3d67391-961b-440f-b664-4f4977884609"
      },
      "outputs": [
        {
          "name": "stdout",
          "output_type": "stream",
          "text": [
            "Ultralytics 8.3.162 🚀 Python-3.11.13 torch-2.6.0+cu124 CUDA:0 (Tesla T4, 15095MiB)\n",
            "\u001b[34m\u001b[1mengine/trainer: \u001b[0magnostic_nms=False, amp=True, augment=False, auto_augment=randaugment, batch=16, bgr=0.0, box=7.5, cache=False, cfg=None, classes=None, close_mosaic=10, cls=0.5, conf=None, copy_paste=0.0, copy_paste_mode=flip, cos_lr=False, cutmix=0.0, data=/content/drive/MyDrive/Garbage_detection_model/data.yaml, degrees=0.0, deterministic=True, device=None, dfl=1.5, dnn=False, dropout=0.0, dynamic=False, embed=None, epochs=50, erasing=0.4, exist_ok=False, fliplr=0.5, flipud=0.0, format=torchscript, fraction=1.0, freeze=None, half=False, hsv_h=0.015, hsv_s=0.7, hsv_v=0.4, imgsz=640, int8=False, iou=0.7, keras=False, kobj=1.0, line_width=None, lr0=0.01, lrf=0.01, mask_ratio=4, max_det=300, mixup=0.0, mode=train, model=yolov8n.pt, momentum=0.937, mosaic=1.0, multi_scale=False, name=garbage_detection_colab, nbs=64, nms=False, opset=None, optimize=False, optimizer=auto, overlap_mask=True, patience=100, perspective=0.0, plots=True, pose=12.0, pretrained=True, profile=False, project=/content/drive/MyDrive/Garbage_detection_model/run/detect, rect=False, resume=False, retina_masks=False, save=True, save_conf=False, save_crop=False, save_dir=/content/drive/MyDrive/Garbage_detection_model/run/detect/garbage_detection_colab, save_frames=False, save_json=False, save_period=-1, save_txt=False, scale=0.5, seed=0, shear=0.0, show=False, show_boxes=True, show_conf=True, show_labels=True, simplify=True, single_cls=False, source=None, split=val, stream_buffer=False, task=detect, time=None, tracker=botsort.yaml, translate=0.1, val=True, verbose=True, vid_stride=1, visualize=False, warmup_bias_lr=0.1, warmup_epochs=3.0, warmup_momentum=0.8, weight_decay=0.0005, workers=8, workspace=None\n",
            "Overriding model.yaml nc=80 with nc=6\n",
            "\n",
            "                   from  n    params  module                                       arguments                     \n",
            "  0                  -1  1       464  ultralytics.nn.modules.conv.Conv             [3, 16, 3, 2]                 \n",
            "  1                  -1  1      4672  ultralytics.nn.modules.conv.Conv             [16, 32, 3, 2]                \n",
            "  2                  -1  1      7360  ultralytics.nn.modules.block.C2f             [32, 32, 1, True]             \n",
            "  3                  -1  1     18560  ultralytics.nn.modules.conv.Conv             [32, 64, 3, 2]                \n",
            "  4                  -1  2     49664  ultralytics.nn.modules.block.C2f             [64, 64, 2, True]             \n",
            "  5                  -1  1     73984  ultralytics.nn.modules.conv.Conv             [64, 128, 3, 2]               \n",
            "  6                  -1  2    197632  ultralytics.nn.modules.block.C2f             [128, 128, 2, True]           \n",
            "  7                  -1  1    295424  ultralytics.nn.modules.conv.Conv             [128, 256, 3, 2]              \n",
            "  8                  -1  1    460288  ultralytics.nn.modules.block.C2f             [256, 256, 1, True]           \n",
            "  9                  -1  1    164608  ultralytics.nn.modules.block.SPPF            [256, 256, 5]                 \n",
            " 10                  -1  1         0  torch.nn.modules.upsampling.Upsample         [None, 2, 'nearest']          \n",
            " 11             [-1, 6]  1         0  ultralytics.nn.modules.conv.Concat           [1]                           \n",
            " 12                  -1  1    148224  ultralytics.nn.modules.block.C2f             [384, 128, 1]                 \n",
            " 13                  -1  1         0  torch.nn.modules.upsampling.Upsample         [None, 2, 'nearest']          \n",
            " 14             [-1, 4]  1         0  ultralytics.nn.modules.conv.Concat           [1]                           \n",
            " 15                  -1  1     37248  ultralytics.nn.modules.block.C2f             [192, 64, 1]                  \n",
            " 16                  -1  1     36992  ultralytics.nn.modules.conv.Conv             [64, 64, 3, 2]                \n",
            " 17            [-1, 12]  1         0  ultralytics.nn.modules.conv.Concat           [1]                           \n",
            " 18                  -1  1    123648  ultralytics.nn.modules.block.C2f             [192, 128, 1]                 \n",
            " 19                  -1  1    147712  ultralytics.nn.modules.conv.Conv             [128, 128, 3, 2]              \n",
            " 20             [-1, 9]  1         0  ultralytics.nn.modules.conv.Concat           [1]                           \n",
            " 21                  -1  1    493056  ultralytics.nn.modules.block.C2f             [384, 256, 1]                 \n",
            " 22        [15, 18, 21]  1    752482  ultralytics.nn.modules.head.Detect           [6, [64, 128, 256]]           \n",
            "Model summary: 129 layers, 3,012,018 parameters, 3,012,002 gradients, 8.2 GFLOPs\n",
            "\n",
            "Transferred 319/355 items from pretrained weights\n",
            "Freezing layer 'model.22.dfl.conv.weight'\n",
            "\u001b[34m\u001b[1mAMP: \u001b[0mrunning Automatic Mixed Precision (AMP) checks...\n",
            "\u001b[34m\u001b[1mAMP: \u001b[0mchecks passed ✅\n",
            "\u001b[34m\u001b[1mtrain: \u001b[0mFast image access ✅ (ping: 1.8±3.3 ms, read: 13.1±8.1 MB/s, size: 30.8 KB)\n"
          ]
        },
        {
          "name": "stderr",
          "output_type": "stream",
          "text": [
            "\u001b[34m\u001b[1mtrain: \u001b[0mScanning /content/drive/MyDrive/Garbage_detection_model/train/labels.cache... 175 images, 0 backgrounds, 0 corrupt: 100%|██████████| 175/175 [00:00<?, ?it/s]"
          ]
        },
        {
          "name": "stdout",
          "output_type": "stream",
          "text": [
            "\u001b[34m\u001b[1malbumentations: \u001b[0mBlur(p=0.01, blur_limit=(3, 7)), MedianBlur(p=0.01, blur_limit=(3, 7)), ToGray(p=0.01, method='weighted_average', num_output_channels=3), CLAHE(p=0.01, clip_limit=(1.0, 4.0), tile_grid_size=(8, 8))\n"
          ]
        },
        {
          "name": "stderr",
          "output_type": "stream",
          "text": [
            "\n"
          ]
        },
        {
          "name": "stdout",
          "output_type": "stream",
          "text": [
            "\u001b[34m\u001b[1mval: \u001b[0mFast image access ✅ (ping: 1.3±1.4 ms, read: 22.2±11.3 MB/s, size: 35.7 KB)\n"
          ]
        },
        {
          "name": "stderr",
          "output_type": "stream",
          "text": [
            "\u001b[34m\u001b[1mval: \u001b[0mScanning /content/drive/MyDrive/Garbage_detection_model/val/labels.cache... 50 images, 0 backgrounds, 0 corrupt: 100%|██████████| 50/50 [00:00<?, ?it/s]\n"
          ]
        },
        {
          "name": "stdout",
          "output_type": "stream",
          "text": [
            "Plotting labels to /content/drive/MyDrive/Garbage_detection_model/run/detect/garbage_detection_colab/labels.jpg... \n",
            "\u001b[34m\u001b[1moptimizer:\u001b[0m 'optimizer=auto' found, ignoring 'lr0=0.01' and 'momentum=0.937' and determining best 'optimizer', 'lr0' and 'momentum' automatically... \n",
            "\u001b[34m\u001b[1moptimizer:\u001b[0m AdamW(lr=0.001, momentum=0.9) with parameter groups 57 weight(decay=0.0), 64 weight(decay=0.0005), 63 bias(decay=0.0)\n",
            "Image sizes 640 train, 640 val\n",
            "Using 2 dataloader workers\n",
            "Logging results to \u001b[1m/content/drive/MyDrive/Garbage_detection_model/run/detect/garbage_detection_colab\u001b[0m\n",
            "Starting training for 50 epochs...\n",
            "\n",
            "      Epoch    GPU_mem   box_loss   cls_loss   dfl_loss  Instances       Size\n"
          ]
        },
        {
          "name": "stderr",
          "output_type": "stream",
          "text": [
            "       1/50      2.23G     0.7092      3.428      1.244         44        640: 100%|██████████| 11/11 [00:05<00:00,  2.10it/s]\n",
            "                 Class     Images  Instances      Box(P          R      mAP50  mAP50-95): 100%|██████████| 2/2 [00:01<00:00,  1.84it/s]\n"
          ]
        },
        {
          "name": "stdout",
          "output_type": "stream",
          "text": [
            "                   all         50         50    0.00408          1       0.16      0.102\n",
            "\n",
            "      Epoch    GPU_mem   box_loss   cls_loss   dfl_loss  Instances       Size\n"
          ]
        },
        {
          "name": "stderr",
          "output_type": "stream",
          "text": [
            "       2/50      2.39G     0.5267      3.106      1.131         43        640: 100%|██████████| 11/11 [00:02<00:00,  4.39it/s]\n",
            "                 Class     Images  Instances      Box(P          R      mAP50  mAP50-95): 100%|██████████| 2/2 [00:00<00:00,  2.39it/s]"
          ]
        },
        {
          "name": "stdout",
          "output_type": "stream",
          "text": [
            "                   all         50         50    0.00689          1      0.207      0.158\n"
          ]
        },
        {
          "name": "stderr",
          "output_type": "stream",
          "text": [
            "\n"
          ]
        },
        {
          "name": "stdout",
          "output_type": "stream",
          "text": [
            "\n",
            "      Epoch    GPU_mem   box_loss   cls_loss   dfl_loss  Instances       Size\n"
          ]
        },
        {
          "name": "stderr",
          "output_type": "stream",
          "text": [
            "       3/50      2.39G     0.4732      2.619      1.093         44        640: 100%|██████████| 11/11 [00:04<00:00,  2.72it/s]\n",
            "                 Class     Images  Instances      Box(P          R      mAP50  mAP50-95): 100%|██████████| 2/2 [00:00<00:00,  2.32it/s]"
          ]
        },
        {
          "name": "stdout",
          "output_type": "stream",
          "text": [
            "                   all         50         50     0.0116          1      0.196      0.139\n"
          ]
        },
        {
          "name": "stderr",
          "output_type": "stream",
          "text": [
            "\n"
          ]
        },
        {
          "name": "stdout",
          "output_type": "stream",
          "text": [
            "\n",
            "      Epoch    GPU_mem   box_loss   cls_loss   dfl_loss  Instances       Size\n"
          ]
        },
        {
          "name": "stderr",
          "output_type": "stream",
          "text": [
            "       4/50      2.39G     0.5254      2.313      1.105         41        640: 100%|██████████| 11/11 [00:02<00:00,  4.11it/s]\n",
            "                 Class     Images  Instances      Box(P          R      mAP50  mAP50-95): 100%|██████████| 2/2 [00:00<00:00,  2.57it/s]"
          ]
        },
        {
          "name": "stdout",
          "output_type": "stream",
          "text": [
            "                   all         50         50      0.736      0.128      0.333      0.196\n"
          ]
        },
        {
          "name": "stderr",
          "output_type": "stream",
          "text": [
            "\n"
          ]
        },
        {
          "name": "stdout",
          "output_type": "stream",
          "text": [
            "\n",
            "      Epoch    GPU_mem   box_loss   cls_loss   dfl_loss  Instances       Size\n"
          ]
        },
        {
          "name": "stderr",
          "output_type": "stream",
          "text": [
            "       5/50      2.39G     0.5525      2.098      1.123         37        640: 100%|██████████| 11/11 [00:02<00:00,  4.48it/s]\n",
            "                 Class     Images  Instances      Box(P          R      mAP50  mAP50-95): 100%|██████████| 2/2 [00:00<00:00,  2.69it/s]"
          ]
        },
        {
          "name": "stdout",
          "output_type": "stream",
          "text": [
            "                   all         50         50      0.426       0.46        0.4      0.321\n"
          ]
        },
        {
          "name": "stderr",
          "output_type": "stream",
          "text": [
            "\n"
          ]
        },
        {
          "name": "stdout",
          "output_type": "stream",
          "text": [
            "\n",
            "      Epoch    GPU_mem   box_loss   cls_loss   dfl_loss  Instances       Size\n"
          ]
        },
        {
          "name": "stderr",
          "output_type": "stream",
          "text": [
            "       6/50      2.39G     0.4775      1.875      1.066         32        640: 100%|██████████| 11/11 [00:02<00:00,  3.81it/s]\n",
            "                 Class     Images  Instances      Box(P          R      mAP50  mAP50-95): 100%|██████████| 2/2 [00:01<00:00,  1.43it/s]"
          ]
        },
        {
          "name": "stdout",
          "output_type": "stream",
          "text": [
            "                   all         50         50      0.493      0.352      0.386      0.316\n"
          ]
        },
        {
          "name": "stderr",
          "output_type": "stream",
          "text": [
            "\n"
          ]
        },
        {
          "name": "stdout",
          "output_type": "stream",
          "text": [
            "\n",
            "      Epoch    GPU_mem   box_loss   cls_loss   dfl_loss  Instances       Size\n"
          ]
        },
        {
          "name": "stderr",
          "output_type": "stream",
          "text": [
            "       7/50      2.39G     0.5226      1.811      1.066         44        640: 100%|██████████| 11/11 [00:03<00:00,  3.39it/s]\n",
            "                 Class     Images  Instances      Box(P          R      mAP50  mAP50-95): 100%|██████████| 2/2 [00:00<00:00,  2.48it/s]"
          ]
        },
        {
          "name": "stdout",
          "output_type": "stream",
          "text": [
            "                   all         50         50      0.453      0.439      0.365      0.271\n"
          ]
        },
        {
          "name": "stderr",
          "output_type": "stream",
          "text": [
            "\n"
          ]
        },
        {
          "name": "stdout",
          "output_type": "stream",
          "text": [
            "\n",
            "      Epoch    GPU_mem   box_loss   cls_loss   dfl_loss  Instances       Size\n"
          ]
        },
        {
          "name": "stderr",
          "output_type": "stream",
          "text": [
            "       8/50      2.39G     0.5447      1.819      1.134         45        640: 100%|██████████| 11/11 [00:02<00:00,  4.25it/s]\n",
            "                 Class     Images  Instances      Box(P          R      mAP50  mAP50-95): 100%|██████████| 2/2 [00:00<00:00,  2.41it/s]"
          ]
        },
        {
          "name": "stdout",
          "output_type": "stream",
          "text": [
            "                   all         50         50      0.566      0.325      0.353      0.262\n"
          ]
        },
        {
          "name": "stderr",
          "output_type": "stream",
          "text": [
            "\n"
          ]
        },
        {
          "name": "stdout",
          "output_type": "stream",
          "text": [
            "\n",
            "      Epoch    GPU_mem   box_loss   cls_loss   dfl_loss  Instances       Size\n"
          ]
        },
        {
          "name": "stderr",
          "output_type": "stream",
          "text": [
            "       9/50      2.39G      0.517      1.735      1.098         42        640: 100%|██████████| 11/11 [00:02<00:00,  4.68it/s]\n",
            "                 Class     Images  Instances      Box(P          R      mAP50  mAP50-95): 100%|██████████| 2/2 [00:01<00:00,  1.80it/s]"
          ]
        },
        {
          "name": "stdout",
          "output_type": "stream",
          "text": [
            "                   all         50         50      0.811      0.219      0.361      0.263\n"
          ]
        },
        {
          "name": "stderr",
          "output_type": "stream",
          "text": [
            "\n"
          ]
        },
        {
          "name": "stdout",
          "output_type": "stream",
          "text": [
            "\n",
            "      Epoch    GPU_mem   box_loss   cls_loss   dfl_loss  Instances       Size\n"
          ]
        },
        {
          "name": "stderr",
          "output_type": "stream",
          "text": [
            "      10/50      2.39G     0.5576      1.675        1.1         44        640: 100%|██████████| 11/11 [00:03<00:00,  3.05it/s]\n",
            "                 Class     Images  Instances      Box(P          R      mAP50  mAP50-95): 100%|██████████| 2/2 [00:00<00:00,  2.34it/s]"
          ]
        },
        {
          "name": "stdout",
          "output_type": "stream",
          "text": [
            "                   all         50         50      0.498      0.438      0.383      0.269\n"
          ]
        },
        {
          "name": "stderr",
          "output_type": "stream",
          "text": [
            "\n"
          ]
        },
        {
          "name": "stdout",
          "output_type": "stream",
          "text": [
            "\n",
            "      Epoch    GPU_mem   box_loss   cls_loss   dfl_loss  Instances       Size\n"
          ]
        },
        {
          "name": "stderr",
          "output_type": "stream",
          "text": [
            "      11/50      2.39G     0.5064      1.558      1.053         49        640: 100%|██████████| 11/11 [00:02<00:00,  4.63it/s]\n",
            "                 Class     Images  Instances      Box(P          R      mAP50  mAP50-95): 100%|██████████| 2/2 [00:00<00:00,  2.11it/s]"
          ]
        },
        {
          "name": "stdout",
          "output_type": "stream",
          "text": [
            "                   all         50         50      0.377      0.467      0.442       0.31\n"
          ]
        },
        {
          "name": "stderr",
          "output_type": "stream",
          "text": [
            "\n"
          ]
        },
        {
          "name": "stdout",
          "output_type": "stream",
          "text": [
            "\n",
            "      Epoch    GPU_mem   box_loss   cls_loss   dfl_loss  Instances       Size\n"
          ]
        },
        {
          "name": "stderr",
          "output_type": "stream",
          "text": [
            "      12/50      2.39G     0.4979      1.649      1.064         45        640: 100%|██████████| 11/11 [00:02<00:00,  4.52it/s]\n",
            "                 Class     Images  Instances      Box(P          R      mAP50  mAP50-95): 100%|██████████| 2/2 [00:00<00:00,  2.43it/s]"
          ]
        },
        {
          "name": "stdout",
          "output_type": "stream",
          "text": [
            "                   all         50         50      0.539      0.441      0.461      0.365\n"
          ]
        },
        {
          "name": "stderr",
          "output_type": "stream",
          "text": [
            "\n"
          ]
        },
        {
          "name": "stdout",
          "output_type": "stream",
          "text": [
            "\n",
            "      Epoch    GPU_mem   box_loss   cls_loss   dfl_loss  Instances       Size\n"
          ]
        },
        {
          "name": "stderr",
          "output_type": "stream",
          "text": [
            "      13/50      2.39G     0.5044      1.566      1.079         44        640: 100%|██████████| 11/11 [00:03<00:00,  3.51it/s]\n",
            "                 Class     Images  Instances      Box(P          R      mAP50  mAP50-95): 100%|██████████| 2/2 [00:01<00:00,  1.60it/s]"
          ]
        },
        {
          "name": "stdout",
          "output_type": "stream",
          "text": [
            "                   all         50         50      0.496      0.364      0.402       0.33\n"
          ]
        },
        {
          "name": "stderr",
          "output_type": "stream",
          "text": [
            "\n"
          ]
        },
        {
          "name": "stdout",
          "output_type": "stream",
          "text": [
            "\n",
            "      Epoch    GPU_mem   box_loss   cls_loss   dfl_loss  Instances       Size\n"
          ]
        },
        {
          "name": "stderr",
          "output_type": "stream",
          "text": [
            "      14/50      2.39G     0.5235      1.541       1.09         39        640: 100%|██████████| 11/11 [00:02<00:00,  3.92it/s]\n",
            "                 Class     Images  Instances      Box(P          R      mAP50  mAP50-95): 100%|██████████| 2/2 [00:00<00:00,  2.18it/s]"
          ]
        },
        {
          "name": "stdout",
          "output_type": "stream",
          "text": [
            "                   all         50         50      0.577      0.505      0.514       0.39\n"
          ]
        },
        {
          "name": "stderr",
          "output_type": "stream",
          "text": [
            "\n"
          ]
        },
        {
          "name": "stdout",
          "output_type": "stream",
          "text": [
            "\n",
            "      Epoch    GPU_mem   box_loss   cls_loss   dfl_loss  Instances       Size\n"
          ]
        },
        {
          "name": "stderr",
          "output_type": "stream",
          "text": [
            "      15/50      2.39G     0.5045      1.485      1.062         45        640: 100%|██████████| 11/11 [00:02<00:00,  4.45it/s]\n",
            "                 Class     Images  Instances      Box(P          R      mAP50  mAP50-95): 100%|██████████| 2/2 [00:00<00:00,  2.25it/s]"
          ]
        },
        {
          "name": "stdout",
          "output_type": "stream",
          "text": [
            "                   all         50         50      0.555      0.409      0.472      0.371\n"
          ]
        },
        {
          "name": "stderr",
          "output_type": "stream",
          "text": [
            "\n"
          ]
        },
        {
          "name": "stdout",
          "output_type": "stream",
          "text": [
            "\n",
            "      Epoch    GPU_mem   box_loss   cls_loss   dfl_loss  Instances       Size\n"
          ]
        },
        {
          "name": "stderr",
          "output_type": "stream",
          "text": [
            "      16/50      2.39G     0.4792       1.39      1.049         49        640: 100%|██████████| 11/11 [00:02<00:00,  4.28it/s]\n",
            "                 Class     Images  Instances      Box(P          R      mAP50  mAP50-95): 100%|██████████| 2/2 [00:01<00:00,  1.68it/s]"
          ]
        },
        {
          "name": "stdout",
          "output_type": "stream",
          "text": [
            "                   all         50         50      0.801      0.404      0.545      0.469\n"
          ]
        },
        {
          "name": "stderr",
          "output_type": "stream",
          "text": [
            "\n"
          ]
        },
        {
          "name": "stdout",
          "output_type": "stream",
          "text": [
            "\n",
            "      Epoch    GPU_mem   box_loss   cls_loss   dfl_loss  Instances       Size\n"
          ]
        },
        {
          "name": "stderr",
          "output_type": "stream",
          "text": [
            "      17/50      2.39G     0.4654      1.382      1.041         46        640: 100%|██████████| 11/11 [00:03<00:00,  3.44it/s]\n",
            "                 Class     Images  Instances      Box(P          R      mAP50  mAP50-95): 100%|██████████| 2/2 [00:00<00:00,  2.37it/s]"
          ]
        },
        {
          "name": "stdout",
          "output_type": "stream",
          "text": [
            "                   all         50         50      0.672      0.504       0.54      0.468\n"
          ]
        },
        {
          "name": "stderr",
          "output_type": "stream",
          "text": [
            "\n"
          ]
        },
        {
          "name": "stdout",
          "output_type": "stream",
          "text": [
            "\n",
            "      Epoch    GPU_mem   box_loss   cls_loss   dfl_loss  Instances       Size\n"
          ]
        },
        {
          "name": "stderr",
          "output_type": "stream",
          "text": [
            "      18/50      2.39G     0.5013      1.429      1.069         49        640: 100%|██████████| 11/11 [00:02<00:00,  4.56it/s]\n",
            "                 Class     Images  Instances      Box(P          R      mAP50  mAP50-95): 100%|██████████| 2/2 [00:01<00:00,  1.95it/s]"
          ]
        },
        {
          "name": "stdout",
          "output_type": "stream",
          "text": [
            "                   all         50         50      0.584      0.524      0.538       0.45\n"
          ]
        },
        {
          "name": "stderr",
          "output_type": "stream",
          "text": [
            "\n"
          ]
        },
        {
          "name": "stdout",
          "output_type": "stream",
          "text": [
            "\n",
            "      Epoch    GPU_mem   box_loss   cls_loss   dfl_loss  Instances       Size\n"
          ]
        },
        {
          "name": "stderr",
          "output_type": "stream",
          "text": [
            "      19/50      2.39G     0.4408      1.234      1.039         47        640: 100%|██████████| 11/11 [00:02<00:00,  4.42it/s]\n",
            "                 Class     Images  Instances      Box(P          R      mAP50  mAP50-95): 100%|██████████| 2/2 [00:00<00:00,  2.12it/s]"
          ]
        },
        {
          "name": "stdout",
          "output_type": "stream",
          "text": [
            "                   all         50         50      0.515      0.623      0.623      0.491\n"
          ]
        },
        {
          "name": "stderr",
          "output_type": "stream",
          "text": [
            "\n"
          ]
        },
        {
          "name": "stdout",
          "output_type": "stream",
          "text": [
            "\n",
            "      Epoch    GPU_mem   box_loss   cls_loss   dfl_loss  Instances       Size\n"
          ]
        },
        {
          "name": "stderr",
          "output_type": "stream",
          "text": [
            "      20/50      2.39G     0.4515      1.252      1.045         42        640: 100%|██████████| 11/11 [00:03<00:00,  2.77it/s]\n",
            "                 Class     Images  Instances      Box(P          R      mAP50  mAP50-95): 100%|██████████| 2/2 [00:00<00:00,  2.67it/s]"
          ]
        },
        {
          "name": "stdout",
          "output_type": "stream",
          "text": [
            "                   all         50         50      0.549      0.644      0.594      0.494\n"
          ]
        },
        {
          "name": "stderr",
          "output_type": "stream",
          "text": [
            "\n"
          ]
        },
        {
          "name": "stdout",
          "output_type": "stream",
          "text": [
            "\n",
            "      Epoch    GPU_mem   box_loss   cls_loss   dfl_loss  Instances       Size\n"
          ]
        },
        {
          "name": "stderr",
          "output_type": "stream",
          "text": [
            "      21/50      2.39G     0.4369      1.263       1.03         38        640: 100%|██████████| 11/11 [00:02<00:00,  4.46it/s]\n",
            "                 Class     Images  Instances      Box(P          R      mAP50  mAP50-95): 100%|██████████| 2/2 [00:00<00:00,  2.82it/s]"
          ]
        },
        {
          "name": "stdout",
          "output_type": "stream",
          "text": [
            "                   all         50         50      0.502      0.664      0.663      0.581\n"
          ]
        },
        {
          "name": "stderr",
          "output_type": "stream",
          "text": [
            "\n"
          ]
        },
        {
          "name": "stdout",
          "output_type": "stream",
          "text": [
            "\n",
            "      Epoch    GPU_mem   box_loss   cls_loss   dfl_loss  Instances       Size\n"
          ]
        },
        {
          "name": "stderr",
          "output_type": "stream",
          "text": [
            "      22/50      2.39G     0.4291      1.185       1.03         48        640: 100%|██████████| 11/11 [00:02<00:00,  4.32it/s]\n",
            "                 Class     Images  Instances      Box(P          R      mAP50  mAP50-95): 100%|██████████| 2/2 [00:00<00:00,  3.08it/s]"
          ]
        },
        {
          "name": "stdout",
          "output_type": "stream",
          "text": [
            "                   all         50         50      0.553      0.656      0.695       0.63\n"
          ]
        },
        {
          "name": "stderr",
          "output_type": "stream",
          "text": [
            "\n"
          ]
        },
        {
          "name": "stdout",
          "output_type": "stream",
          "text": [
            "\n",
            "      Epoch    GPU_mem   box_loss   cls_loss   dfl_loss  Instances       Size\n"
          ]
        },
        {
          "name": "stderr",
          "output_type": "stream",
          "text": [
            "      23/50      2.39G      0.428      1.134       1.02         41        640: 100%|██████████| 11/11 [00:03<00:00,  3.61it/s]\n",
            "                 Class     Images  Instances      Box(P          R      mAP50  mAP50-95): 100%|██████████| 2/2 [00:01<00:00,  1.42it/s]"
          ]
        },
        {
          "name": "stdout",
          "output_type": "stream",
          "text": [
            "                   all         50         50      0.629      0.668      0.695       0.63\n"
          ]
        },
        {
          "name": "stderr",
          "output_type": "stream",
          "text": [
            "\n"
          ]
        },
        {
          "name": "stdout",
          "output_type": "stream",
          "text": [
            "\n",
            "      Epoch    GPU_mem   box_loss   cls_loss   dfl_loss  Instances       Size\n"
          ]
        },
        {
          "name": "stderr",
          "output_type": "stream",
          "text": [
            "      24/50      2.39G     0.4438      1.166      1.027         43        640: 100%|██████████| 11/11 [00:02<00:00,  4.24it/s]\n",
            "                 Class     Images  Instances      Box(P          R      mAP50  mAP50-95): 100%|██████████| 2/2 [00:00<00:00,  2.46it/s]"
          ]
        },
        {
          "name": "stdout",
          "output_type": "stream",
          "text": [
            "                   all         50         50       0.45      0.505      0.499      0.454\n"
          ]
        },
        {
          "name": "stderr",
          "output_type": "stream",
          "text": [
            "\n"
          ]
        },
        {
          "name": "stdout",
          "output_type": "stream",
          "text": [
            "\n",
            "      Epoch    GPU_mem   box_loss   cls_loss   dfl_loss  Instances       Size\n"
          ]
        },
        {
          "name": "stderr",
          "output_type": "stream",
          "text": [
            "      25/50      2.39G     0.4269      1.209      1.001         42        640: 100%|██████████| 11/11 [00:02<00:00,  4.43it/s]\n",
            "                 Class     Images  Instances      Box(P          R      mAP50  mAP50-95): 100%|██████████| 2/2 [00:00<00:00,  2.26it/s]"
          ]
        },
        {
          "name": "stdout",
          "output_type": "stream",
          "text": [
            "                   all         50         50      0.564      0.494      0.519      0.466\n"
          ]
        },
        {
          "name": "stderr",
          "output_type": "stream",
          "text": [
            "\n"
          ]
        },
        {
          "name": "stdout",
          "output_type": "stream",
          "text": [
            "\n",
            "      Epoch    GPU_mem   box_loss   cls_loss   dfl_loss  Instances       Size\n"
          ]
        },
        {
          "name": "stderr",
          "output_type": "stream",
          "text": [
            "      26/50      2.39G     0.4216      1.213      1.013         46        640: 100%|██████████| 11/11 [00:02<00:00,  4.80it/s]\n",
            "                 Class     Images  Instances      Box(P          R      mAP50  mAP50-95): 100%|██████████| 2/2 [00:00<00:00,  2.02it/s]"
          ]
        },
        {
          "name": "stdout",
          "output_type": "stream",
          "text": [
            "                   all         50         50      0.765      0.455      0.657      0.604\n"
          ]
        },
        {
          "name": "stderr",
          "output_type": "stream",
          "text": [
            "\n"
          ]
        },
        {
          "name": "stdout",
          "output_type": "stream",
          "text": [
            "\n",
            "      Epoch    GPU_mem   box_loss   cls_loss   dfl_loss  Instances       Size\n"
          ]
        },
        {
          "name": "stderr",
          "output_type": "stream",
          "text": [
            "      27/50      2.39G     0.3954      1.126     0.9987         44        640: 100%|██████████| 11/11 [00:03<00:00,  3.39it/s]\n",
            "                 Class     Images  Instances      Box(P          R      mAP50  mAP50-95): 100%|██████████| 2/2 [00:00<00:00,  2.37it/s]"
          ]
        },
        {
          "name": "stdout",
          "output_type": "stream",
          "text": [
            "                   all         50         50      0.663      0.591      0.697      0.653\n"
          ]
        },
        {
          "name": "stderr",
          "output_type": "stream",
          "text": [
            "\n"
          ]
        },
        {
          "name": "stdout",
          "output_type": "stream",
          "text": [
            "\n",
            "      Epoch    GPU_mem   box_loss   cls_loss   dfl_loss  Instances       Size\n"
          ]
        },
        {
          "name": "stderr",
          "output_type": "stream",
          "text": [
            "      28/50      2.39G     0.3882      1.112     0.9822         41        640: 100%|██████████| 11/11 [00:02<00:00,  4.59it/s]\n",
            "                 Class     Images  Instances      Box(P          R      mAP50  mAP50-95): 100%|██████████| 2/2 [00:00<00:00,  2.58it/s]"
          ]
        },
        {
          "name": "stdout",
          "output_type": "stream",
          "text": [
            "                   all         50         50      0.606      0.614      0.665      0.609\n"
          ]
        },
        {
          "name": "stderr",
          "output_type": "stream",
          "text": [
            "\n"
          ]
        },
        {
          "name": "stdout",
          "output_type": "stream",
          "text": [
            "\n",
            "      Epoch    GPU_mem   box_loss   cls_loss   dfl_loss  Instances       Size\n"
          ]
        },
        {
          "name": "stderr",
          "output_type": "stream",
          "text": [
            "      29/50      2.39G     0.4039       1.06     0.9933         44        640: 100%|██████████| 11/11 [00:02<00:00,  4.54it/s]\n",
            "                 Class     Images  Instances      Box(P          R      mAP50  mAP50-95): 100%|██████████| 2/2 [00:00<00:00,  2.46it/s]"
          ]
        },
        {
          "name": "stdout",
          "output_type": "stream",
          "text": [
            "                   all         50         50      0.491      0.739      0.653      0.593\n"
          ]
        },
        {
          "name": "stderr",
          "output_type": "stream",
          "text": [
            "\n"
          ]
        },
        {
          "name": "stdout",
          "output_type": "stream",
          "text": [
            "\n",
            "      Epoch    GPU_mem   box_loss   cls_loss   dfl_loss  Instances       Size\n"
          ]
        },
        {
          "name": "stderr",
          "output_type": "stream",
          "text": [
            "      30/50      2.39G     0.3779      0.976      1.005         44        640: 100%|██████████| 11/11 [00:03<00:00,  2.97it/s]\n",
            "                 Class     Images  Instances      Box(P          R      mAP50  mAP50-95): 100%|██████████| 2/2 [00:01<00:00,  1.90it/s]"
          ]
        },
        {
          "name": "stdout",
          "output_type": "stream",
          "text": [
            "                   all         50         50      0.846      0.535      0.691       0.63\n"
          ]
        },
        {
          "name": "stderr",
          "output_type": "stream",
          "text": [
            "\n"
          ]
        },
        {
          "name": "stdout",
          "output_type": "stream",
          "text": [
            "\n",
            "      Epoch    GPU_mem   box_loss   cls_loss   dfl_loss  Instances       Size\n"
          ]
        },
        {
          "name": "stderr",
          "output_type": "stream",
          "text": [
            "      31/50      2.39G     0.3991      1.041      1.008         47        640: 100%|██████████| 11/11 [00:02<00:00,  4.47it/s]\n",
            "                 Class     Images  Instances      Box(P          R      mAP50  mAP50-95): 100%|██████████| 2/2 [00:00<00:00,  2.44it/s]"
          ]
        },
        {
          "name": "stdout",
          "output_type": "stream",
          "text": [
            "                   all         50         50      0.647      0.606      0.715      0.665\n"
          ]
        },
        {
          "name": "stderr",
          "output_type": "stream",
          "text": [
            "\n"
          ]
        },
        {
          "name": "stdout",
          "output_type": "stream",
          "text": [
            "\n",
            "      Epoch    GPU_mem   box_loss   cls_loss   dfl_loss  Instances       Size\n"
          ]
        },
        {
          "name": "stderr",
          "output_type": "stream",
          "text": [
            "      32/50      2.39G      0.381     0.9284     0.9731         50        640: 100%|██████████| 11/11 [00:02<00:00,  4.57it/s]\n",
            "                 Class     Images  Instances      Box(P          R      mAP50  mAP50-95): 100%|██████████| 2/2 [00:00<00:00,  2.72it/s]"
          ]
        },
        {
          "name": "stdout",
          "output_type": "stream",
          "text": [
            "                   all         50         50      0.572      0.692      0.692      0.652\n"
          ]
        },
        {
          "name": "stderr",
          "output_type": "stream",
          "text": [
            "\n"
          ]
        },
        {
          "name": "stdout",
          "output_type": "stream",
          "text": [
            "\n",
            "      Epoch    GPU_mem   box_loss   cls_loss   dfl_loss  Instances       Size\n"
          ]
        },
        {
          "name": "stderr",
          "output_type": "stream",
          "text": [
            "      33/50      2.39G     0.3838     0.9664     0.9793         52        640: 100%|██████████| 11/11 [00:02<00:00,  3.92it/s]\n",
            "                 Class     Images  Instances      Box(P          R      mAP50  mAP50-95): 100%|██████████| 2/2 [00:01<00:00,  1.50it/s]"
          ]
        },
        {
          "name": "stdout",
          "output_type": "stream",
          "text": [
            "                   all         50         50       0.66      0.631      0.738      0.698\n"
          ]
        },
        {
          "name": "stderr",
          "output_type": "stream",
          "text": [
            "\n"
          ]
        },
        {
          "name": "stdout",
          "output_type": "stream",
          "text": [
            "\n",
            "      Epoch    GPU_mem   box_loss   cls_loss   dfl_loss  Instances       Size\n"
          ]
        },
        {
          "name": "stderr",
          "output_type": "stream",
          "text": [
            "      34/50      2.39G       0.37     0.9461     0.9715         45        640: 100%|██████████| 11/11 [00:02<00:00,  3.85it/s]\n",
            "                 Class     Images  Instances      Box(P          R      mAP50  mAP50-95): 100%|██████████| 2/2 [00:00<00:00,  2.33it/s]"
          ]
        },
        {
          "name": "stdout",
          "output_type": "stream",
          "text": [
            "                   all         50         50      0.845      0.528       0.77      0.728\n"
          ]
        },
        {
          "name": "stderr",
          "output_type": "stream",
          "text": [
            "\n"
          ]
        },
        {
          "name": "stdout",
          "output_type": "stream",
          "text": [
            "\n",
            "      Epoch    GPU_mem   box_loss   cls_loss   dfl_loss  Instances       Size\n"
          ]
        },
        {
          "name": "stderr",
          "output_type": "stream",
          "text": [
            "      35/50      2.39G     0.3681     0.9174     0.9771         38        640: 100%|██████████| 11/11 [00:02<00:00,  4.46it/s]\n",
            "                 Class     Images  Instances      Box(P          R      mAP50  mAP50-95): 100%|██████████| 2/2 [00:00<00:00,  2.58it/s]"
          ]
        },
        {
          "name": "stdout",
          "output_type": "stream",
          "text": [
            "                   all         50         50      0.808       0.54      0.771      0.746\n"
          ]
        },
        {
          "name": "stderr",
          "output_type": "stream",
          "text": [
            "\n"
          ]
        },
        {
          "name": "stdout",
          "output_type": "stream",
          "text": [
            "\n",
            "      Epoch    GPU_mem   box_loss   cls_loss   dfl_loss  Instances       Size\n"
          ]
        },
        {
          "name": "stderr",
          "output_type": "stream",
          "text": [
            "      36/50      2.39G     0.3586     0.9121      1.004         37        640: 100%|██████████| 11/11 [00:02<00:00,  4.23it/s]\n",
            "                 Class     Images  Instances      Box(P          R      mAP50  mAP50-95): 100%|██████████| 2/2 [00:00<00:00,  2.09it/s]"
          ]
        },
        {
          "name": "stdout",
          "output_type": "stream",
          "text": [
            "                   all         50         50      0.874      0.587      0.766      0.682\n"
          ]
        },
        {
          "name": "stderr",
          "output_type": "stream",
          "text": [
            "\n"
          ]
        },
        {
          "name": "stdout",
          "output_type": "stream",
          "text": [
            "\n",
            "      Epoch    GPU_mem   box_loss   cls_loss   dfl_loss  Instances       Size\n"
          ]
        },
        {
          "name": "stderr",
          "output_type": "stream",
          "text": [
            "      37/50      2.39G     0.3182     0.8515     0.9396         44        640: 100%|██████████| 11/11 [00:03<00:00,  2.89it/s]\n",
            "                 Class     Images  Instances      Box(P          R      mAP50  mAP50-95): 100%|██████████| 2/2 [00:00<00:00,  2.27it/s]"
          ]
        },
        {
          "name": "stdout",
          "output_type": "stream",
          "text": [
            "                   all         50         50      0.716      0.667      0.752      0.656\n"
          ]
        },
        {
          "name": "stderr",
          "output_type": "stream",
          "text": [
            "\n"
          ]
        },
        {
          "name": "stdout",
          "output_type": "stream",
          "text": [
            "\n",
            "      Epoch    GPU_mem   box_loss   cls_loss   dfl_loss  Instances       Size\n"
          ]
        },
        {
          "name": "stderr",
          "output_type": "stream",
          "text": [
            "      38/50      2.39G     0.3389     0.8504      0.965         39        640: 100%|██████████| 11/11 [00:02<00:00,  4.15it/s]\n",
            "                 Class     Images  Instances      Box(P          R      mAP50  mAP50-95): 100%|██████████| 2/2 [00:00<00:00,  2.65it/s]"
          ]
        },
        {
          "name": "stdout",
          "output_type": "stream",
          "text": [
            "                   all         50         50      0.633      0.695      0.792      0.734\n"
          ]
        },
        {
          "name": "stderr",
          "output_type": "stream",
          "text": [
            "\n"
          ]
        },
        {
          "name": "stdout",
          "output_type": "stream",
          "text": [
            "\n",
            "      Epoch    GPU_mem   box_loss   cls_loss   dfl_loss  Instances       Size\n"
          ]
        },
        {
          "name": "stderr",
          "output_type": "stream",
          "text": [
            "      39/50      2.39G     0.3382     0.8326     0.9605         49        640: 100%|██████████| 11/11 [00:02<00:00,  4.32it/s]\n",
            "                 Class     Images  Instances      Box(P          R      mAP50  mAP50-95): 100%|██████████| 2/2 [00:01<00:00,  2.00it/s]"
          ]
        },
        {
          "name": "stdout",
          "output_type": "stream",
          "text": [
            "                   all         50         50      0.616      0.749      0.784      0.732\n"
          ]
        },
        {
          "name": "stderr",
          "output_type": "stream",
          "text": [
            "\n"
          ]
        },
        {
          "name": "stdout",
          "output_type": "stream",
          "text": [
            "\n",
            "      Epoch    GPU_mem   box_loss   cls_loss   dfl_loss  Instances       Size\n"
          ]
        },
        {
          "name": "stderr",
          "output_type": "stream",
          "text": [
            "      40/50      2.39G     0.3387     0.8124     0.9659         44        640: 100%|██████████| 11/11 [00:03<00:00,  3.24it/s]\n",
            "                 Class     Images  Instances      Box(P          R      mAP50  mAP50-95): 100%|██████████| 2/2 [00:01<00:00,  1.34it/s]"
          ]
        },
        {
          "name": "stdout",
          "output_type": "stream",
          "text": [
            "                   all         50         50       0.52      0.785      0.786      0.738\n"
          ]
        },
        {
          "name": "stderr",
          "output_type": "stream",
          "text": [
            "\n"
          ]
        },
        {
          "name": "stdout",
          "output_type": "stream",
          "text": [
            "Closing dataloader mosaic\n",
            "\u001b[34m\u001b[1malbumentations: \u001b[0mBlur(p=0.01, blur_limit=(3, 7)), MedianBlur(p=0.01, blur_limit=(3, 7)), ToGray(p=0.01, method='weighted_average', num_output_channels=3), CLAHE(p=0.01, clip_limit=(1.0, 4.0), tile_grid_size=(8, 8))\n",
            "\n",
            "      Epoch    GPU_mem   box_loss   cls_loss   dfl_loss  Instances       Size\n"
          ]
        },
        {
          "name": "stderr",
          "output_type": "stream",
          "text": [
            "      41/50      2.39G     0.3631      1.446      1.072         17        640: 100%|██████████| 11/11 [00:04<00:00,  2.62it/s]\n",
            "                 Class     Images  Instances      Box(P          R      mAP50  mAP50-95): 100%|██████████| 2/2 [00:00<00:00,  2.79it/s]"
          ]
        },
        {
          "name": "stdout",
          "output_type": "stream",
          "text": [
            "                   all         50         50      0.534      0.753      0.771      0.722\n"
          ]
        },
        {
          "name": "stderr",
          "output_type": "stream",
          "text": [
            "\n"
          ]
        },
        {
          "name": "stdout",
          "output_type": "stream",
          "text": [
            "\n",
            "      Epoch    GPU_mem   box_loss   cls_loss   dfl_loss  Instances       Size\n"
          ]
        },
        {
          "name": "stderr",
          "output_type": "stream",
          "text": [
            "      42/50      2.39G     0.2873      1.154     0.9955         15        640: 100%|██████████| 11/11 [00:02<00:00,  4.70it/s]\n",
            "                 Class     Images  Instances      Box(P          R      mAP50  mAP50-95): 100%|██████████| 2/2 [00:00<00:00,  2.61it/s]"
          ]
        },
        {
          "name": "stdout",
          "output_type": "stream",
          "text": [
            "                   all         50         50      0.596      0.645      0.694      0.646\n"
          ]
        },
        {
          "name": "stderr",
          "output_type": "stream",
          "text": [
            "\n"
          ]
        },
        {
          "name": "stdout",
          "output_type": "stream",
          "text": [
            "\n",
            "      Epoch    GPU_mem   box_loss   cls_loss   dfl_loss  Instances       Size\n"
          ]
        },
        {
          "name": "stderr",
          "output_type": "stream",
          "text": [
            "      43/50      2.39G     0.3148      1.234      1.018         15        640: 100%|██████████| 11/11 [00:03<00:00,  2.97it/s]\n",
            "                 Class     Images  Instances      Box(P          R      mAP50  mAP50-95): 100%|██████████| 2/2 [00:01<00:00,  1.53it/s]"
          ]
        },
        {
          "name": "stdout",
          "output_type": "stream",
          "text": [
            "                   all         50         50      0.814      0.581      0.702      0.652\n"
          ]
        },
        {
          "name": "stderr",
          "output_type": "stream",
          "text": [
            "\n"
          ]
        },
        {
          "name": "stdout",
          "output_type": "stream",
          "text": [
            "\n",
            "      Epoch    GPU_mem   box_loss   cls_loss   dfl_loss  Instances       Size\n"
          ]
        },
        {
          "name": "stderr",
          "output_type": "stream",
          "text": [
            "      44/50      2.39G     0.2961      1.181       1.03         15        640: 100%|██████████| 11/11 [00:02<00:00,  4.90it/s]\n",
            "                 Class     Images  Instances      Box(P          R      mAP50  mAP50-95): 100%|██████████| 2/2 [00:00<00:00,  2.39it/s]"
          ]
        },
        {
          "name": "stdout",
          "output_type": "stream",
          "text": [
            "                   all         50         50      0.715      0.574      0.703      0.639\n"
          ]
        },
        {
          "name": "stderr",
          "output_type": "stream",
          "text": [
            "\n"
          ]
        },
        {
          "name": "stdout",
          "output_type": "stream",
          "text": [
            "\n",
            "      Epoch    GPU_mem   box_loss   cls_loss   dfl_loss  Instances       Size\n"
          ]
        },
        {
          "name": "stderr",
          "output_type": "stream",
          "text": [
            "      45/50      2.39G     0.2766       1.02      1.002         15        640: 100%|██████████| 11/11 [00:02<00:00,  4.65it/s]\n",
            "                 Class     Images  Instances      Box(P          R      mAP50  mAP50-95): 100%|██████████| 2/2 [00:00<00:00,  2.80it/s]"
          ]
        },
        {
          "name": "stdout",
          "output_type": "stream",
          "text": [
            "                   all         50         50      0.718      0.635      0.733      0.682\n"
          ]
        },
        {
          "name": "stderr",
          "output_type": "stream",
          "text": [
            "\n"
          ]
        },
        {
          "name": "stdout",
          "output_type": "stream",
          "text": [
            "\n",
            "      Epoch    GPU_mem   box_loss   cls_loss   dfl_loss  Instances       Size\n"
          ]
        },
        {
          "name": "stderr",
          "output_type": "stream",
          "text": [
            "      46/50      2.39G     0.2801      1.036      1.021         15        640: 100%|██████████| 11/11 [00:02<00:00,  4.62it/s]\n",
            "                 Class     Images  Instances      Box(P          R      mAP50  mAP50-95): 100%|██████████| 2/2 [00:01<00:00,  1.80it/s]"
          ]
        },
        {
          "name": "stdout",
          "output_type": "stream",
          "text": [
            "                   all         50         50      0.738      0.723      0.782      0.745\n"
          ]
        },
        {
          "name": "stderr",
          "output_type": "stream",
          "text": [
            "\n"
          ]
        },
        {
          "name": "stdout",
          "output_type": "stream",
          "text": [
            "\n",
            "      Epoch    GPU_mem   box_loss   cls_loss   dfl_loss  Instances       Size\n"
          ]
        },
        {
          "name": "stderr",
          "output_type": "stream",
          "text": [
            "      47/50      2.39G     0.2571     0.9434      0.983         15        640: 100%|██████████| 11/11 [00:03<00:00,  3.02it/s]\n",
            "                 Class     Images  Instances      Box(P          R      mAP50  mAP50-95): 100%|██████████| 2/2 [00:00<00:00,  2.32it/s]"
          ]
        },
        {
          "name": "stdout",
          "output_type": "stream",
          "text": [
            "                   all         50         50      0.819      0.655      0.776      0.747\n"
          ]
        },
        {
          "name": "stderr",
          "output_type": "stream",
          "text": [
            "\n"
          ]
        },
        {
          "name": "stdout",
          "output_type": "stream",
          "text": [
            "\n",
            "      Epoch    GPU_mem   box_loss   cls_loss   dfl_loss  Instances       Size\n"
          ]
        },
        {
          "name": "stderr",
          "output_type": "stream",
          "text": [
            "      48/50      2.39G     0.2371     0.9182     0.9537         15        640: 100%|██████████| 11/11 [00:02<00:00,  4.79it/s]\n",
            "                 Class     Images  Instances      Box(P          R      mAP50  mAP50-95): 100%|██████████| 2/2 [00:00<00:00,  2.81it/s]"
          ]
        },
        {
          "name": "stdout",
          "output_type": "stream",
          "text": [
            "                   all         50         50      0.676      0.672      0.765      0.736\n"
          ]
        },
        {
          "name": "stderr",
          "output_type": "stream",
          "text": [
            "\n"
          ]
        },
        {
          "name": "stdout",
          "output_type": "stream",
          "text": [
            "\n",
            "      Epoch    GPU_mem   box_loss   cls_loss   dfl_loss  Instances       Size\n"
          ]
        },
        {
          "name": "stderr",
          "output_type": "stream",
          "text": [
            "      49/50      2.39G     0.2404     0.9213     0.9678         15        640: 100%|██████████| 11/11 [00:02<00:00,  4.98it/s]\n",
            "                 Class     Images  Instances      Box(P          R      mAP50  mAP50-95): 100%|██████████| 2/2 [00:00<00:00,  2.31it/s]"
          ]
        },
        {
          "name": "stdout",
          "output_type": "stream",
          "text": [
            "                   all         50         50      0.675      0.671      0.774      0.748\n"
          ]
        },
        {
          "name": "stderr",
          "output_type": "stream",
          "text": [
            "\n"
          ]
        },
        {
          "name": "stdout",
          "output_type": "stream",
          "text": [
            "\n",
            "      Epoch    GPU_mem   box_loss   cls_loss   dfl_loss  Instances       Size\n"
          ]
        },
        {
          "name": "stderr",
          "output_type": "stream",
          "text": [
            "      50/50      2.39G     0.2431     0.9274     0.9577         15        640: 100%|██████████| 11/11 [00:02<00:00,  3.94it/s]\n",
            "                 Class     Images  Instances      Box(P          R      mAP50  mAP50-95): 100%|██████████| 2/2 [00:01<00:00,  1.70it/s]"
          ]
        },
        {
          "name": "stdout",
          "output_type": "stream",
          "text": [
            "                   all         50         50      0.684      0.672      0.778      0.753\n"
          ]
        },
        {
          "name": "stderr",
          "output_type": "stream",
          "text": [
            "\n"
          ]
        },
        {
          "name": "stdout",
          "output_type": "stream",
          "text": [
            "\n",
            "50 epochs completed in 0.060 hours.\n",
            "Optimizer stripped from /content/drive/MyDrive/Garbage_detection_model/run/detect/garbage_detection_colab/weights/last.pt, 6.3MB\n",
            "Optimizer stripped from /content/drive/MyDrive/Garbage_detection_model/run/detect/garbage_detection_colab/weights/best.pt, 6.3MB\n",
            "\n",
            "Validating /content/drive/MyDrive/Garbage_detection_model/run/detect/garbage_detection_colab/weights/best.pt...\n",
            "Ultralytics 8.3.162 🚀 Python-3.11.13 torch-2.6.0+cu124 CUDA:0 (Tesla T4, 15095MiB)\n",
            "Model summary (fused): 72 layers, 3,006,818 parameters, 0 gradients, 8.1 GFLOPs\n"
          ]
        },
        {
          "name": "stderr",
          "output_type": "stream",
          "text": [
            "                 Class     Images  Instances      Box(P          R      mAP50  mAP50-95): 100%|██████████| 2/2 [00:01<00:00,  1.85it/s]\n"
          ]
        },
        {
          "name": "stdout",
          "output_type": "stream",
          "text": [
            "                   all         50         50      0.685      0.672      0.778      0.753\n",
            "                 Metal          7          7          1      0.421      0.875      0.875\n",
            "                 Paper         15         15      0.702      0.933      0.944      0.892\n",
            "               Plastic          5          5      0.352        0.6      0.592      0.576\n",
            "          Random Trash          5          5      0.636        0.4      0.486      0.486\n",
            "             cardboard         11         11      0.797      0.818      0.956      0.928\n",
            "                 glass          7          7      0.621      0.857      0.813      0.757\n",
            "Speed: 0.3ms preprocess, 3.3ms inference, 0.0ms loss, 7.1ms postprocess per image\n",
            "Results saved to \u001b[1m/content/drive/MyDrive/Garbage_detection_model/run/detect/garbage_detection_colab\u001b[0m\n"
          ]
        }
      ],
      "source": [
        "from ultralytics import YOLO\n",
        "\n",
        "model = YOLO(\"yolov8n.pt\")  # Nano model (fastest)\n",
        "\n",
        "# Start training with custom output directory\n",
        "results = model.train(\n",
        "    data=\"/content/drive/MyDrive/Garbage_detection_model/data.yaml\",\n",
        "    epochs=50,\n",
        "    imgsz=640,\n",
        "    batch=16,\n",
        "    project=\"/content/drive/MyDrive/Garbage_detection_model/run/detect\",  # Custom project path\n",
        "    name=\"garbage_detection_colab\"  # Subfolder name\n",
        ")"
      ]
    },
    {
      "cell_type": "markdown",
      "metadata": {
        "id": "vgHoJ9swi5Q1"
      },
      "source": [
        "**7. Training Performance Visualization**\n",
        "\n",
        "      Analyze and visualize model training metrics to evaluate performance"
      ]
    },
    {
      "cell_type": "code",
      "execution_count": null,
      "metadata": {
        "colab": {
          "base_uri": "https://localhost:8080/",
          "height": 607
        },
        "id": "ZDNr4c63ikeD",
        "outputId": "3b66874e-2e5e-434b-d9b8-affc451a8d0b"
      },
      "outputs": [
        {
          "data": {
            "image/png": "[encoded data removed]",
            "text/plain": [
              "<Figure size 1000x600 with 1 Axes>"
            ]
          },
          "metadata": {},
          "output_type": "display_data"
        }
      ],
      "source": [
        "import pandas as pd\n",
        "import matplotlib.pyplot as plt\n",
        "\n",
        "# Load training metrics\n",
        "metrics_path = '/content/drive/MyDrive/Garbage_detection_model/run/detect/garbage_detection_colab/results.csv'\n",
        "\n",
        "#if not works meansgive this path '/content/drive/MyDrive/Garbage_detection_model/runs/detect/garbage_detection_colab/results.csv'\n",
        "metrics = pd.read_csv(metrics_path)\n",
        "\n",
        "# Create performance plot\n",
        "plt.figure(figsize=(10, 6))\n",
        "plt.plot(metrics['epoch'], metrics['metrics/mAP50(B)'],\n",
        "         label='mAP50', linewidth=2, color='royalblue')\n",
        "plt.xlabel('Epoch', fontsize=12)\n",
        "plt.ylabel('mAP50', fontsize=12)\n",
        "plt.title('Training Performance: mAP50 Over Epochs', fontsize=14, pad=20)\n",
        "plt.legend(fontsize=12)\n",
        "plt.grid(True, alpha=0.3)\n",
        "plt.tight_layout()\n",
        "plt.show()"
      ]
    },
    {
      "cell_type": "markdown",
      "metadata": {
        "id": "TT9MJUEPi9_-"
      },
      "source": [
        "**8. Model Evaluation on Test Set**\n",
        "\n",
        "      Validate your trained model's performance on unseen data"
      ]
    },
    {
      "cell_type": "code",
      "execution_count": null,
      "metadata": {
        "colab": {
          "base_uri": "https://localhost:8080/"
        },
        "id": "cMtBJDrQjcV9",
        "outputId": "599b8dba-dbf8-4be9-e936-dbff3917c1c2"
      },
      "outputs": [
        {
          "name": "stdout",
          "output_type": "stream",
          "text": [
            "WARNING ⚠️ 'save_hybrid' is deprecated and will be removed in in the future.\n",
            "Ultralytics 8.3.162 🚀 Python-3.11.13 torch-2.6.0+cu124 CUDA:0 (Tesla T4, 15095MiB)\n",
            "Model summary (fused): 72 layers, 3,006,818 parameters, 0 gradients, 8.1 GFLOPs\n",
            "\u001b[34m\u001b[1mval: \u001b[0mFast image access ✅ (ping: 0.3±0.1 ms, read: 17.9±9.8 MB/s, size: 32.2 KB)\n"
          ]
        },
        {
          "name": "stderr",
          "output_type": "stream",
          "text": [
            "\u001b[34m\u001b[1mval: \u001b[0mScanning /content/drive/MyDrive/Garbage_detection_model/val/labels.cache... 50 images, 0 backgrounds, 0 corrupt: 100%|██████████| 50/50 [00:00<?, ?it/s]\n",
            "                 Class     Images  Instances      Box(P          R      mAP50  mAP50-95): 100%|██████████| 4/4 [00:03<00:00,  1.14it/s]\n"
          ]
        },
        {
          "name": "stdout",
          "output_type": "stream",
          "text": [
            "                   all         50         50      0.809      0.616      0.746      0.729\n",
            "                 Metal          7          7          1      0.286      0.643      0.643\n",
            "                 Paper         15         15      0.778      0.933      0.938      0.903\n",
            "               Plastic          5          5      0.429        0.6      0.569      0.569\n",
            "          Random Trash          5          5          1        0.2        0.6        0.6\n",
            "             cardboard         11         11        0.9      0.818        0.9      0.879\n",
            "                 glass          7          7       0.75      0.857      0.827      0.783\n",
            "Speed: 9.6ms preprocess, 9.3ms inference, 0.0ms loss, 4.5ms postprocess per image\n",
            "Saving /content/drive/MyDrive/Garbage_detection_model/run/val/eval_results/predictions.json...\n",
            "Results saved to \u001b[1m/content/drive/MyDrive/Garbage_detection_model/run/val/eval_results\u001b[0m\n",
            "mAP50-95: 0.729328570961718\n",
            "mAP50: 0.745951573295985\n"
          ]
        }
      ],
      "source": [
        "from ultralytics import YOLO\n",
        "\n",
        "# Load your trained model\n",
        "model = YOLO('/content/drive/MyDrive/Garbage_detection_model/run/detect/garbage_detection_colab/weights/best.pt')\n",
        "\n",
        "# Evaluate on validation set\n",
        "metrics = model.val(\n",
        "    data='/content/drive/MyDrive/Garbage_detection_model/data.yaml',\n",
        "    split='val',  # Ensure 'val' is defined in data.yaml\n",
        "    batch=16,     # Match your training batch size\n",
        "    conf=0.5,     # Confidence threshold\n",
        "    iou=0.45,     # IoU threshold\n",
        "    save_json=True,  # Save results to JSON\n",
        "    save_hybrid=True,  # Save hybrid version of labels\n",
        "    project='/content/drive/MyDrive/Garbage_detection_model/run/val',  # Custom save location\n",
        "    name='eval_results'\n",
        ")\n",
        "\n",
        "print(f\"mAP50-95: {metrics.box.map}\")  # Print mean Average Precision\n",
        "print(f\"mAP50: {metrics.box.map50}\")   # Print mAP@0.5"
      ]
    },
    {
      "cell_type": "markdown",
      "metadata": {
        "id": "jxzDnOpsjkfa"
      },
      "source": [
        "**Verify the run folder exist**"
      ]
    },
    {
      "cell_type": "code",
      "execution_count": null,
      "metadata": {
        "colab": {
          "base_uri": "https://localhost:8080/"
        },
        "id": "puwmXdfsje7p",
        "outputId": "115ba2fa-e831-4c6e-d840-3caa432f2110"
      },
      "outputs": [
        {
          "name": "stdout",
          "output_type": "stream",
          "text": [
            "total 5949\n",
            "-rw------- 1 root root   1682 Jul  7 11:34 args.yaml\n",
            "-rw------- 1 root root 272725 Jul  7 11:37 BoxF1_curve.png\n",
            "-rw------- 1 root root 252377 Jul  7 11:37 BoxP_curve.png\n",
            "-rw------- 1 root root 133397 Jul  7 11:37 BoxPR_curve.png\n",
            "-rw------- 1 root root 205106 Jul  7 11:37 BoxR_curve.png\n",
            "-rw------- 1 root root 195489 Jul  7 11:37 confusion_matrix_normalized.png\n",
            "-rw------- 1 root root 151246 Jul  7 11:37 confusion_matrix.png\n",
            "-rw------- 1 root root 176121 Jul  7 11:34 labels_correlogram.jpg\n",
            "-rw------- 1 root root 170521 Jul  7 11:34 labels.jpg\n",
            "-rw------- 1 root root   6142 Jul  7 11:37 results.csv\n",
            "-rw------- 1 root root 335107 Jul  7 11:37 results.png\n",
            "-rw------- 1 root root 479966 Jul  7 11:34 train_batch0.jpg\n",
            "-rw------- 1 root root 416863 Jul  7 11:34 train_batch1.jpg\n",
            "-rw------- 1 root root 458309 Jul  7 11:34 train_batch2.jpg\n",
            "-rw------- 1 root root 367582 Jul  7 11:37 train_batch440.jpg\n",
            "-rw------- 1 root root 359443 Jul  7 11:37 train_batch441.jpg\n",
            "-rw------- 1 root root 368994 Jul  7 11:37 train_batch442.jpg\n",
            "-rw------- 1 root root 419530 Jul  7 11:37 val_batch0_labels.jpg\n",
            "-rw------- 1 root root 430169 Jul  7 11:37 val_batch0_pred.jpg\n",
            "-rw------- 1 root root 436862 Jul  7 11:37 val_batch1_labels.jpg\n",
            "-rw------- 1 root root 444720 Jul  7 11:37 val_batch1_pred.jpg\n",
            "drwx------ 2 root root   4096 Jul  7 11:37 weights\n"
          ]
        }
      ],
      "source": [
        "!ls -la \"/content/drive/MyDrive/Garbage_detection_model/run/detect/garbage_detection_colab\""
      ]
    },
    {
      "cell_type": "markdown",
      "metadata": {
        "id": "TZ9rwNDKkjIJ"
      },
      "source": [
        "**9. Model Deployment for Inference**\n",
        "\n",
        "      Run your trained garbage detection model on new images and videos"
      ]
    },
    {
      "cell_type": "markdown",
      "metadata": {
        "id": "WvQNu55BkmUR"
      },
      "source": [
        "**1. Image Detection (Detect objects in single images).**"
      ]
    },
    {
      "cell_type": "code",
      "execution_count": null,
      "metadata": {
        "colab": {
          "base_uri": "https://localhost:8080/",
          "height": 493
        },
        "id": "_riuakhfkpxZ",
        "outputId": "e67ffab5-492c-4101-9b79-fa65dd4c8685"
      },
      "outputs": [
        {
          "name": "stdout",
          "output_type": "stream",
          "text": [
            "\n",
            "image 1/1 /content/drive/MyDrive/Garbage_detection_model/glass.jpg: 640x640 1 glass, 7.4ms\n",
            "Speed: 3.6ms preprocess, 7.4ms inference, 1.6ms postprocess per image at shape (1, 3, 640, 640)\n",
            "Results saved to \u001b[1mruns/detect/predict16\u001b[0m\n",
            "1 label saved to runs/detect/predict16/labels\n"
          ]
        },
        {
          "data": {
            "image/png": "[encoded data removed]",
            "text/plain": [
              "<Figure size 640x480 with 1 Axes>"
            ]
          },
          "metadata": {},
          "output_type": "display_data"
        }
      ],
      "source": [
        "from ultralytics import YOLO\n",
        "import matplotlib.pyplot as plt\n",
        "\n",
        "# Load trained model\n",
        "model = YOLO(\"/content/drive/MyDrive/Garbage_detection_model/run/detect/garbage_detection_colab/weights/best.pt\")\n",
        "\n",
        "# Run prediction\n",
        "results = model.predict(\n",
        "    source=\"/content/drive/MyDrive/Garbage_detection_model/glass.jpg\",\n",
        "    conf=0.25,          # Confidence threshold (adjust as needed)\n",
        "    save=True,         # Saves to 'runs/detect/predict'\n",
        "    save_txt=True,     # Save labels as .txt files\n",
        "    save_conf=True,    # Save confidence scores in labels\n",
        "    show=True,         # Display results inline (Colab/Jupyter)\n",
        "    show_labels=True,  # Show class labels\n",
        "    show_conf=True     # Show confidence scores\n",
        ")\n",
        "\n",
        "# Display results\n",
        "for result in results:\n",
        "    plt.imshow(result.plot()[:,:,::-1])  # Convert BGR to RGB\n",
        "    plt.axis('off')\n",
        "    plt.show()"
      ]
    },
    {
      "cell_type": "code",
      "execution_count": null,
      "metadata": {
        "colab": {
          "base_uri": "https://localhost:8080/"
        },
        "id": "JEwD2BOtobV0",
        "outputId": "d6434200-59b6-46e5-bb3e-822af82e2d34"
      },
      "outputs": [
        {
          "name": "stdout",
          "output_type": "stream",
          "text": [
            "Ultralytics 8.3.162 🚀 Python-3.11.13 torch-2.6.0+cu124 CUDA:0 (Tesla T4, 15095MiB)\n",
            "\u001b[34m\u001b[1mval: \u001b[0mFast image access ✅ (ping: 0.3±0.1 ms, read: 13.9±2.8 MB/s, size: 23.6 KB)\n"
          ]
        },
        {
          "name": "stderr",
          "output_type": "stream",
          "text": [
            "\u001b[34m\u001b[1mval: \u001b[0mScanning /content/drive/MyDrive/Garbage_detection_model/val/labels.cache... 50 images, 0 backgrounds, 0 corrupt: 100%|██████████| 50/50 [00:00<?, ?it/s]\n",
            "                 Class     Images  Instances      Box(P          R      mAP50  mAP50-95): 100%|██████████| 4/4 [00:02<00:00,  1.77it/s]\n"
          ]
        },
        {
          "name": "stdout",
          "output_type": "stream",
          "text": [
            "                   all         50         50      0.684      0.672      0.778      0.753\n",
            "                 Metal          7          7          1       0.42      0.875      0.875\n",
            "                 Paper         15         15      0.701      0.933      0.944      0.894\n",
            "               Plastic          5          5      0.352        0.6      0.592      0.576\n",
            "          Random Trash          5          5       0.63        0.4      0.486      0.486\n",
            "             cardboard         11         11      0.797      0.818      0.956      0.928\n",
            "                 glass          7          7      0.623      0.857      0.813      0.757\n",
            "Speed: 5.8ms preprocess, 12.8ms inference, 0.0ms loss, 3.4ms postprocess per image\n",
            "Results saved to \u001b[1mruns/detect/val3\u001b[0m\n",
            "0.7527070628103244\n"
          ]
        }
      ],
      "source": [
        "# Evaluate on your validation set\n",
        "metrics = model.val(data='/content/drive/MyDrive/Garbage_detection_model/data.yaml')\n",
        "print(metrics.box.map)  # mAP score"
      ]
    },
    {
      "cell_type": "markdown",
      "metadata": {
        "id": "uporJHs7kqn6"
      },
      "source": [
        "**2. Video Detection (Process video files frame-by-frame)**"
      ]
    },
    {
      "cell_type": "code",
      "execution_count": null,
      "metadata": {
        "colab": {
          "base_uri": "https://localhost:8080/"
        },
        "id": "_W3iKAQfktBx",
        "outputId": "c86dcf36-0a8b-44da-d6ae-fd7bea10f94e"
      },
      "outputs": [
        {
          "name": "stdout",
          "output_type": "stream",
          "text": [
            "\n",
            "video 1/1 (frame 1/348) /content/drive/MyDrive/Garbage_detection_model/glassvideo.mp4: 640x384 (no detections), 35.4ms\n",
            "video 1/1 (frame 2/348) /content/drive/MyDrive/Garbage_detection_model/glassvideo.mp4: 640x384 (no detections), 7.3ms\n",
            "video 1/1 (frame 3/348) /content/drive/MyDrive/Garbage_detection_model/glassvideo.mp4: 640x384 (no detections), 9.3ms\n",
            "video 1/1 (frame 4/348) /content/drive/MyDrive/Garbage_detection_model/glassvideo.mp4: 640x384 (no detections), 10.5ms\n",
            "video 1/1 (frame 5/348) /content/drive/MyDrive/Garbage_detection_model/glassvideo.mp4: 640x384 (no detections), 8.3ms\n",
            "video 1/1 (frame 6/348) /content/drive/MyDrive/Garbage_detection_model/glassvideo.mp4: 640x384 (no detections), 7.9ms\n",
            "video 1/1 (frame 7/348) /content/drive/MyDrive/Garbage_detection_model/glassvideo.mp4: 640x384 (no detections), 12.1ms\n",
            "video 1/1 (frame 8/348) /content/drive/MyDrive/Garbage_detection_model/glassvideo.mp4: 640x384 (no detections), 8.4ms\n",
            "video 1/1 (frame 9/348) /content/drive/MyDrive/Garbage_detection_model/glassvideo.mp4: 640x384 (no detections), 9.5ms\n",
            "video 1/1 (frame 10/348) /content/drive/MyDrive/Garbage_detection_model/glassvideo.mp4: 640x384 (no detections), 8.0ms\n",
            "video 1/1 (frame 11/348) /content/drive/MyDrive/Garbage_detection_model/glassvideo.mp4: 640x384 (no detections), 10.1ms\n",
            "video 1/1 (frame 12/348) /content/drive/MyDrive/Garbage_detection_model/glassvideo.mp4: 640x384 (no detections), 7.5ms\n",
            "video 1/1 (frame 13/348) /content/drive/MyDrive/Garbage_detection_model/glassvideo.mp4: 640x384 (no detections), 9.5ms\n",
            "video 1/1 (frame 14/348) /content/drive/MyDrive/Garbage_detection_model/glassvideo.mp4: 640x384 (no detections), 7.8ms\n",
            "video 1/1 (frame 15/348) /content/drive/MyDrive/Garbage_detection_model/glassvideo.mp4: 640x384 1 cardboard, 10.5ms\n",
            "video 1/1 (frame 16/348) /content/drive/MyDrive/Garbage_detection_model/glassvideo.mp4: 640x384 (no detections), 9.3ms\n",
            "video 1/1 (frame 17/348) /content/drive/MyDrive/Garbage_detection_model/glassvideo.mp4: 640x384 1 cardboard, 8.4ms\n",
            "video 1/1 (frame 18/348) /content/drive/MyDrive/Garbage_detection_model/glassvideo.mp4: 640x384 (no detections), 9.0ms\n",
            "video 1/1 (frame 19/348) /content/drive/MyDrive/Garbage_detection_model/glassvideo.mp4: 640x384 (no detections), 7.4ms\n",
            "video 1/1 (frame 20/348) /content/drive/MyDrive/Garbage_detection_model/glassvideo.mp4: 640x384 (no detections), 10.1ms\n",
            "video 1/1 (frame 21/348) /content/drive/MyDrive/Garbage_detection_model/glassvideo.mp4: 640x384 (no detections), 9.1ms\n",
            "video 1/1 (frame 22/348) /content/drive/MyDrive/Garbage_detection_model/glassvideo.mp4: 640x384 (no detections), 9.1ms\n",
            "video 1/1 (frame 23/348) /content/drive/MyDrive/Garbage_detection_model/glassvideo.mp4: 640x384 (no detections), 8.7ms\n",
            "video 1/1 (frame 24/348) /content/drive/MyDrive/Garbage_detection_model/glassvideo.mp4: 640x384 (no detections), 11.0ms\n",
            "video 1/1 (frame 25/348) /content/drive/MyDrive/Garbage_detection_model/glassvideo.mp4: 640x384 (no detections), 10.7ms\n",
            "video 1/1 (frame 26/348) /content/drive/MyDrive/Garbage_detection_model/glassvideo.mp4: 640x384 (no detections), 8.8ms\n",
            "video 1/1 (frame 27/348) /content/drive/MyDrive/Garbage_detection_model/glassvideo.mp4: 640x384 (no detections), 8.9ms\n",
            "video 1/1 (frame 28/348) /content/drive/MyDrive/Garbage_detection_model/glassvideo.mp4: 640x384 (no detections), 13.5ms\n",
            "video 1/1 (frame 29/348) /content/drive/MyDrive/Garbage_detection_model/glassvideo.mp4: 640x384 (no detections), 14.9ms\n",
            "video 1/1 (frame 30/348) /content/drive/MyDrive/Garbage_detection_model/glassvideo.mp4: 640x384 (no detections), 7.2ms\n",
            "video 1/1 (frame 31/348) /content/drive/MyDrive/Garbage_detection_model/glassvideo.mp4: 640x384 (no detections), 11.0ms\n",
            "video 1/1 (frame 32/348) /content/drive/MyDrive/Garbage_detection_model/glassvideo.mp4: 640x384 (no detections), 10.0ms\n",
            "video 1/1 (frame 33/348) /content/drive/MyDrive/Garbage_detection_model/glassvideo.mp4: 640x384 (no detections), 9.6ms\n",
            "video 1/1 (frame 34/348) /content/drive/MyDrive/Garbage_detection_model/glassvideo.mp4: 640x384 (no detections), 8.7ms\n",
            "video 1/1 (frame 35/348) /content/drive/MyDrive/Garbage_detection_model/glassvideo.mp4: 640x384 (no detections), 10.1ms\n",
            "video 1/1 (frame 36/348) /content/drive/MyDrive/Garbage_detection_model/glassvideo.mp4: 640x384 (no detections), 10.0ms\n",
            "video 1/1 (frame 37/348) /content/drive/MyDrive/Garbage_detection_model/glassvideo.mp4: 640x384 (no detections), 9.3ms\n",
            "video 1/1 (frame 38/348) /content/drive/MyDrive/Garbage_detection_model/glassvideo.mp4: 640x384 (no detections), 9.2ms\n",
            "video 1/1 (frame 39/348) /content/drive/MyDrive/Garbage_detection_model/glassvideo.mp4: 640x384 1 Paper, 9.3ms\n",
            "video 1/1 (frame 40/348) /content/drive/MyDrive/Garbage_detection_model/glassvideo.mp4: 640x384 1 Paper, 9.4ms\n",
            "video 1/1 (frame 41/348) /content/drive/MyDrive/Garbage_detection_model/glassvideo.mp4: 640x384 1 Paper, 8.5ms\n",
            "video 1/1 (frame 42/348) /content/drive/MyDrive/Garbage_detection_model/glassvideo.mp4: 640x384 1 Paper, 8.8ms\n",
            "video 1/1 (frame 43/348) /content/drive/MyDrive/Garbage_detection_model/glassvideo.mp4: 640x384 1 Paper, 9.7ms\n",
            "video 1/1 (frame 44/348) /content/drive/MyDrive/Garbage_detection_model/glassvideo.mp4: 640x384 1 Paper, 10.0ms\n",
            "video 1/1 (frame 45/348) /content/drive/MyDrive/Garbage_detection_model/glassvideo.mp4: 640x384 (no detections), 9.4ms\n",
            "video 1/1 (frame 46/348) /content/drive/MyDrive/Garbage_detection_model/glassvideo.mp4: 640x384 (no detections), 8.0ms\n",
            "video 1/1 (frame 47/348) /content/drive/MyDrive/Garbage_detection_model/glassvideo.mp4: 640x384 (no detections), 8.1ms\n",
            "video 1/1 (frame 48/348) /content/drive/MyDrive/Garbage_detection_model/glassvideo.mp4: 640x384 (no detections), 7.1ms\n",
            "video 1/1 (frame 49/348) /content/drive/MyDrive/Garbage_detection_model/glassvideo.mp4: 640x384 (no detections), 9.8ms\n",
            "video 1/1 (frame 50/348) /content/drive/MyDrive/Garbage_detection_model/glassvideo.mp4: 640x384 (no detections), 7.0ms\n",
            "video 1/1 (frame 51/348) /content/drive/MyDrive/Garbage_detection_model/glassvideo.mp4: 640x384 (no detections), 8.8ms\n",
            "video 1/1 (frame 52/348) /content/drive/MyDrive/Garbage_detection_model/glassvideo.mp4: 640x384 (no detections), 7.0ms\n",
            "video 1/1 (frame 53/348) /content/drive/MyDrive/Garbage_detection_model/glassvideo.mp4: 640x384 (no detections), 9.9ms\n",
            "video 1/1 (frame 54/348) /content/drive/MyDrive/Garbage_detection_model/glassvideo.mp4: 640x384 (no detections), 7.8ms\n",
            "video 1/1 (frame 55/348) /content/drive/MyDrive/Garbage_detection_model/glassvideo.mp4: 640x384 (no detections), 10.1ms\n",
            "video 1/1 (frame 56/348) /content/drive/MyDrive/Garbage_detection_model/glassvideo.mp4: 640x384 (no detections), 7.1ms\n",
            "video 1/1 (frame 57/348) /content/drive/MyDrive/Garbage_detection_model/glassvideo.mp4: 640x384 (no detections), 9.4ms\n",
            "video 1/1 (frame 58/348) /content/drive/MyDrive/Garbage_detection_model/glassvideo.mp4: 640x384 (no detections), 9.1ms\n",
            "video 1/1 (frame 59/348) /content/drive/MyDrive/Garbage_detection_model/glassvideo.mp4: 640x384 (no detections), 8.6ms\n",
            "video 1/1 (frame 60/348) /content/drive/MyDrive/Garbage_detection_model/glassvideo.mp4: 640x384 (no detections), 8.0ms\n",
            "video 1/1 (frame 61/348) /content/drive/MyDrive/Garbage_detection_model/glassvideo.mp4: 640x384 (no detections), 8.5ms\n",
            "video 1/1 (frame 62/348) /content/drive/MyDrive/Garbage_detection_model/glassvideo.mp4: 640x384 (no detections), 8.7ms\n",
            "video 1/1 (frame 63/348) /content/drive/MyDrive/Garbage_detection_model/glassvideo.mp4: 640x384 (no detections), 6.7ms\n",
            "video 1/1 (frame 64/348) /content/drive/MyDrive/Garbage_detection_model/glassvideo.mp4: 640x384 (no detections), 7.8ms\n",
            "video 1/1 (frame 65/348) /content/drive/MyDrive/Garbage_detection_model/glassvideo.mp4: 640x384 (no detections), 8.4ms\n",
            "video 1/1 (frame 66/348) /content/drive/MyDrive/Garbage_detection_model/glassvideo.mp4: 640x384 (no detections), 9.1ms\n",
            "video 1/1 (frame 67/348) /content/drive/MyDrive/Garbage_detection_model/glassvideo.mp4: 640x384 (no detections), 6.9ms\n",
            "video 1/1 (frame 68/348) /content/drive/MyDrive/Garbage_detection_model/glassvideo.mp4: 640x384 (no detections), 8.3ms\n",
            "video 1/1 (frame 69/348) /content/drive/MyDrive/Garbage_detection_model/glassvideo.mp4: 640x384 (no detections), 7.7ms\n",
            "video 1/1 (frame 70/348) /content/drive/MyDrive/Garbage_detection_model/glassvideo.mp4: 640x384 (no detections), 8.9ms\n",
            "video 1/1 (frame 71/348) /content/drive/MyDrive/Garbage_detection_model/glassvideo.mp4: 640x384 (no detections), 6.8ms\n",
            "video 1/1 (frame 72/348) /content/drive/MyDrive/Garbage_detection_model/glassvideo.mp4: 640x384 (no detections), 8.1ms\n",
            "video 1/1 (frame 73/348) /content/drive/MyDrive/Garbage_detection_model/glassvideo.mp4: 640x384 (no detections), 8.1ms\n",
            "video 1/1 (frame 74/348) /content/drive/MyDrive/Garbage_detection_model/glassvideo.mp4: 640x384 (no detections), 8.8ms\n",
            "video 1/1 (frame 75/348) /content/drive/MyDrive/Garbage_detection_model/glassvideo.mp4: 640x384 (no detections), 6.8ms\n",
            "video 1/1 (frame 76/348) /content/drive/MyDrive/Garbage_detection_model/glassvideo.mp4: 640x384 (no detections), 9.8ms\n",
            "video 1/1 (frame 77/348) /content/drive/MyDrive/Garbage_detection_model/glassvideo.mp4: 640x384 (no detections), 9.8ms\n",
            "video 1/1 (frame 78/348) /content/drive/MyDrive/Garbage_detection_model/glassvideo.mp4: 640x384 (no detections), 10.7ms\n",
            "video 1/1 (frame 79/348) /content/drive/MyDrive/Garbage_detection_model/glassvideo.mp4: 640x384 (no detections), 7.0ms\n",
            "video 1/1 (frame 80/348) /content/drive/MyDrive/Garbage_detection_model/glassvideo.mp4: 640x384 1 Paper, 8.4ms\n",
            "video 1/1 (frame 81/348) /content/drive/MyDrive/Garbage_detection_model/glassvideo.mp4: 640x384 1 Paper, 7.9ms\n",
            "video 1/1 (frame 82/348) /content/drive/MyDrive/Garbage_detection_model/glassvideo.mp4: 640x384 1 Paper, 8.7ms\n",
            "video 1/1 (frame 83/348) /content/drive/MyDrive/Garbage_detection_model/glassvideo.mp4: 640x384 1 Paper, 7.7ms\n",
            "video 1/1 (frame 84/348) /content/drive/MyDrive/Garbage_detection_model/glassvideo.mp4: 640x384 1 Paper, 9.7ms\n",
            "video 1/1 (frame 85/348) /content/drive/MyDrive/Garbage_detection_model/glassvideo.mp4: 640x384 1 Paper, 8.1ms\n",
            "video 1/1 (frame 86/348) /content/drive/MyDrive/Garbage_detection_model/glassvideo.mp4: 640x384 1 Paper, 9.1ms\n",
            "video 1/1 (frame 87/348) /content/drive/MyDrive/Garbage_detection_model/glassvideo.mp4: 640x384 (no detections), 7.2ms\n",
            "video 1/1 (frame 88/348) /content/drive/MyDrive/Garbage_detection_model/glassvideo.mp4: 640x384 (no detections), 9.2ms\n",
            "video 1/1 (frame 89/348) /content/drive/MyDrive/Garbage_detection_model/glassvideo.mp4: 640x384 (no detections), 7.1ms\n",
            "video 1/1 (frame 90/348) /content/drive/MyDrive/Garbage_detection_model/glassvideo.mp4: 640x384 (no detections), 9.6ms\n",
            "video 1/1 (frame 91/348) /content/drive/MyDrive/Garbage_detection_model/glassvideo.mp4: 640x384 (no detections), 7.2ms\n",
            "video 1/1 (frame 92/348) /content/drive/MyDrive/Garbage_detection_model/glassvideo.mp4: 640x384 (no detections), 8.9ms\n",
            "video 1/1 (frame 93/348) /content/drive/MyDrive/Garbage_detection_model/glassvideo.mp4: 640x384 (no detections), 8.5ms\n",
            "video 1/1 (frame 94/348) /content/drive/MyDrive/Garbage_detection_model/glassvideo.mp4: 640x384 (no detections), 9.0ms\n",
            "video 1/1 (frame 95/348) /content/drive/MyDrive/Garbage_detection_model/glassvideo.mp4: 640x384 (no detections), 7.6ms\n",
            "video 1/1 (frame 96/348) /content/drive/MyDrive/Garbage_detection_model/glassvideo.mp4: 640x384 (no detections), 7.0ms\n",
            "video 1/1 (frame 97/348) /content/drive/MyDrive/Garbage_detection_model/glassvideo.mp4: 640x384 (no detections), 8.5ms\n",
            "video 1/1 (frame 98/348) /content/drive/MyDrive/Garbage_detection_model/glassvideo.mp4: 640x384 (no detections), 7.1ms\n",
            "video 1/1 (frame 99/348) /content/drive/MyDrive/Garbage_detection_model/glassvideo.mp4: 640x384 (no detections), 8.4ms\n",
            "video 1/1 (frame 100/348) /content/drive/MyDrive/Garbage_detection_model/glassvideo.mp4: 640x384 (no detections), 8.4ms\n",
            "video 1/1 (frame 101/348) /content/drive/MyDrive/Garbage_detection_model/glassvideo.mp4: 640x384 1 Paper, 10.5ms\n",
            "video 1/1 (frame 102/348) /content/drive/MyDrive/Garbage_detection_model/glassvideo.mp4: 640x384 1 Paper, 15.3ms\n",
            "video 1/1 (frame 103/348) /content/drive/MyDrive/Garbage_detection_model/glassvideo.mp4: 640x384 (no detections), 8.5ms\n",
            "video 1/1 (frame 104/348) /content/drive/MyDrive/Garbage_detection_model/glassvideo.mp4: 640x384 (no detections), 7.8ms\n",
            "video 1/1 (frame 105/348) /content/drive/MyDrive/Garbage_detection_model/glassvideo.mp4: 640x384 (no detections), 18.7ms\n",
            "video 1/1 (frame 106/348) /content/drive/MyDrive/Garbage_detection_model/glassvideo.mp4: 640x384 1 cardboard, 8.4ms\n",
            "video 1/1 (frame 107/348) /content/drive/MyDrive/Garbage_detection_model/glassvideo.mp4: 640x384 1 cardboard, 7.4ms\n",
            "video 1/1 (frame 108/348) /content/drive/MyDrive/Garbage_detection_model/glassvideo.mp4: 640x384 1 Paper, 9.2ms\n",
            "video 1/1 (frame 109/348) /content/drive/MyDrive/Garbage_detection_model/glassvideo.mp4: 640x384 1 cardboard, 9.4ms\n",
            "video 1/1 (frame 110/348) /content/drive/MyDrive/Garbage_detection_model/glassvideo.mp4: 640x384 (no detections), 9.8ms\n",
            "video 1/1 (frame 111/348) /content/drive/MyDrive/Garbage_detection_model/glassvideo.mp4: 640x384 1 cardboard, 7.1ms\n",
            "video 1/1 (frame 112/348) /content/drive/MyDrive/Garbage_detection_model/glassvideo.mp4: 640x384 1 cardboard, 8.8ms\n",
            "video 1/1 (frame 113/348) /content/drive/MyDrive/Garbage_detection_model/glassvideo.mp4: 640x384 (no detections), 8.3ms\n",
            "video 1/1 (frame 114/348) /content/drive/MyDrive/Garbage_detection_model/glassvideo.mp4: 640x384 (no detections), 9.5ms\n",
            "video 1/1 (frame 115/348) /content/drive/MyDrive/Garbage_detection_model/glassvideo.mp4: 640x384 (no detections), 8.6ms\n",
            "video 1/1 (frame 116/348) /content/drive/MyDrive/Garbage_detection_model/glassvideo.mp4: 640x384 (no detections), 9.7ms\n",
            "video 1/1 (frame 117/348) /content/drive/MyDrive/Garbage_detection_model/glassvideo.mp4: 640x384 1 Paper, 9.0ms\n",
            "video 1/1 (frame 118/348) /content/drive/MyDrive/Garbage_detection_model/glassvideo.mp4: 640x384 (no detections), 9.4ms\n",
            "video 1/1 (frame 119/348) /content/drive/MyDrive/Garbage_detection_model/glassvideo.mp4: 640x384 1 Paper, 9.9ms\n",
            "video 1/1 (frame 120/348) /content/drive/MyDrive/Garbage_detection_model/glassvideo.mp4: 640x384 (no detections), 8.6ms\n",
            "video 1/1 (frame 121/348) /content/drive/MyDrive/Garbage_detection_model/glassvideo.mp4: 640x384 (no detections), 10.3ms\n",
            "video 1/1 (frame 122/348) /content/drive/MyDrive/Garbage_detection_model/glassvideo.mp4: 640x384 (no detections), 7.7ms\n",
            "video 1/1 (frame 123/348) /content/drive/MyDrive/Garbage_detection_model/glassvideo.mp4: 640x384 (no detections), 8.6ms\n",
            "video 1/1 (frame 124/348) /content/drive/MyDrive/Garbage_detection_model/glassvideo.mp4: 640x384 (no detections), 7.3ms\n",
            "video 1/1 (frame 125/348) /content/drive/MyDrive/Garbage_detection_model/glassvideo.mp4: 640x384 (no detections), 10.9ms\n",
            "video 1/1 (frame 126/348) /content/drive/MyDrive/Garbage_detection_model/glassvideo.mp4: 640x384 (no detections), 9.0ms\n",
            "video 1/1 (frame 127/348) /content/drive/MyDrive/Garbage_detection_model/glassvideo.mp4: 640x384 (no detections), 10.5ms\n",
            "video 1/1 (frame 128/348) /content/drive/MyDrive/Garbage_detection_model/glassvideo.mp4: 640x384 (no detections), 6.9ms\n",
            "video 1/1 (frame 129/348) /content/drive/MyDrive/Garbage_detection_model/glassvideo.mp4: 640x384 (no detections), 10.3ms\n",
            "video 1/1 (frame 130/348) /content/drive/MyDrive/Garbage_detection_model/glassvideo.mp4: 640x384 (no detections), 9.9ms\n",
            "video 1/1 (frame 131/348) /content/drive/MyDrive/Garbage_detection_model/glassvideo.mp4: 640x384 (no detections), 8.5ms\n",
            "video 1/1 (frame 132/348) /content/drive/MyDrive/Garbage_detection_model/glassvideo.mp4: 640x384 (no detections), 8.9ms\n",
            "video 1/1 (frame 133/348) /content/drive/MyDrive/Garbage_detection_model/glassvideo.mp4: 640x384 (no detections), 8.6ms\n",
            "video 1/1 (frame 134/348) /content/drive/MyDrive/Garbage_detection_model/glassvideo.mp4: 640x384 (no detections), 10.4ms\n",
            "video 1/1 (frame 135/348) /content/drive/MyDrive/Garbage_detection_model/glassvideo.mp4: 640x384 (no detections), 7.3ms\n",
            "video 1/1 (frame 136/348) /content/drive/MyDrive/Garbage_detection_model/glassvideo.mp4: 640x384 (no detections), 8.1ms\n",
            "video 1/1 (frame 137/348) /content/drive/MyDrive/Garbage_detection_model/glassvideo.mp4: 640x384 (no detections), 8.7ms\n",
            "video 1/1 (frame 138/348) /content/drive/MyDrive/Garbage_detection_model/glassvideo.mp4: 640x384 (no detections), 10.7ms\n",
            "video 1/1 (frame 139/348) /content/drive/MyDrive/Garbage_detection_model/glassvideo.mp4: 640x384 (no detections), 7.2ms\n",
            "video 1/1 (frame 140/348) /content/drive/MyDrive/Garbage_detection_model/glassvideo.mp4: 640x384 (no detections), 9.3ms\n",
            "video 1/1 (frame 141/348) /content/drive/MyDrive/Garbage_detection_model/glassvideo.mp4: 640x384 (no detections), 8.8ms\n",
            "video 1/1 (frame 142/348) /content/drive/MyDrive/Garbage_detection_model/glassvideo.mp4: 640x384 (no detections), 10.7ms\n",
            "video 1/1 (frame 143/348) /content/drive/MyDrive/Garbage_detection_model/glassvideo.mp4: 640x384 (no detections), 10.4ms\n",
            "video 1/1 (frame 144/348) /content/drive/MyDrive/Garbage_detection_model/glassvideo.mp4: 640x384 (no detections), 9.0ms\n",
            "video 1/1 (frame 145/348) /content/drive/MyDrive/Garbage_detection_model/glassvideo.mp4: 640x384 (no detections), 9.5ms\n",
            "video 1/1 (frame 146/348) /content/drive/MyDrive/Garbage_detection_model/glassvideo.mp4: 640x384 (no detections), 11.5ms\n",
            "video 1/1 (frame 147/348) /content/drive/MyDrive/Garbage_detection_model/glassvideo.mp4: 640x384 (no detections), 7.1ms\n",
            "video 1/1 (frame 148/348) /content/drive/MyDrive/Garbage_detection_model/glassvideo.mp4: 640x384 (no detections), 9.0ms\n",
            "video 1/1 (frame 149/348) /content/drive/MyDrive/Garbage_detection_model/glassvideo.mp4: 640x384 (no detections), 9.8ms\n",
            "video 1/1 (frame 150/348) /content/drive/MyDrive/Garbage_detection_model/glassvideo.mp4: 640x384 1 Paper, 12.4ms\n",
            "video 1/1 (frame 151/348) /content/drive/MyDrive/Garbage_detection_model/glassvideo.mp4: 640x384 (no detections), 7.2ms\n",
            "video 1/1 (frame 152/348) /content/drive/MyDrive/Garbage_detection_model/glassvideo.mp4: 640x384 (no detections), 7.0ms\n",
            "video 1/1 (frame 153/348) /content/drive/MyDrive/Garbage_detection_model/glassvideo.mp4: 640x384 (no detections), 10.5ms\n",
            "video 1/1 (frame 154/348) /content/drive/MyDrive/Garbage_detection_model/glassvideo.mp4: 640x384 1 Paper, 10.4ms\n",
            "video 1/1 (frame 155/348) /content/drive/MyDrive/Garbage_detection_model/glassvideo.mp4: 640x384 1 Paper, 10.3ms\n",
            "video 1/1 (frame 156/348) /content/drive/MyDrive/Garbage_detection_model/glassvideo.mp4: 640x384 1 Paper, 9.0ms\n",
            "video 1/1 (frame 157/348) /content/drive/MyDrive/Garbage_detection_model/glassvideo.mp4: 640x384 (no detections), 6.8ms\n",
            "video 1/1 (frame 158/348) /content/drive/MyDrive/Garbage_detection_model/glassvideo.mp4: 640x384 (no detections), 6.8ms\n",
            "video 1/1 (frame 159/348) /content/drive/MyDrive/Garbage_detection_model/glassvideo.mp4: 640x384 (no detections), 8.1ms\n",
            "video 1/1 (frame 160/348) /content/drive/MyDrive/Garbage_detection_model/glassvideo.mp4: 640x384 (no detections), 9.1ms\n",
            "video 1/1 (frame 161/348) /content/drive/MyDrive/Garbage_detection_model/glassvideo.mp4: 640x384 (no detections), 7.1ms\n",
            "video 1/1 (frame 162/348) /content/drive/MyDrive/Garbage_detection_model/glassvideo.mp4: 640x384 (no detections), 8.0ms\n",
            "video 1/1 (frame 163/348) /content/drive/MyDrive/Garbage_detection_model/glassvideo.mp4: 640x384 (no detections), 8.0ms\n",
            "video 1/1 (frame 164/348) /content/drive/MyDrive/Garbage_detection_model/glassvideo.mp4: 640x384 (no detections), 12.2ms\n",
            "video 1/1 (frame 165/348) /content/drive/MyDrive/Garbage_detection_model/glassvideo.mp4: 640x384 1 Paper, 6.7ms\n",
            "video 1/1 (frame 166/348) /content/drive/MyDrive/Garbage_detection_model/glassvideo.mp4: 640x384 1 Paper, 8.3ms\n",
            "video 1/1 (frame 167/348) /content/drive/MyDrive/Garbage_detection_model/glassvideo.mp4: 640x384 1 Paper, 7.9ms\n",
            "video 1/1 (frame 168/348) /content/drive/MyDrive/Garbage_detection_model/glassvideo.mp4: 640x384 (no detections), 9.1ms\n",
            "video 1/1 (frame 169/348) /content/drive/MyDrive/Garbage_detection_model/glassvideo.mp4: 640x384 (no detections), 6.8ms\n",
            "video 1/1 (frame 170/348) /content/drive/MyDrive/Garbage_detection_model/glassvideo.mp4: 640x384 (no detections), 8.5ms\n",
            "video 1/1 (frame 171/348) /content/drive/MyDrive/Garbage_detection_model/glassvideo.mp4: 640x384 1 Paper, 9.1ms\n",
            "video 1/1 (frame 172/348) /content/drive/MyDrive/Garbage_detection_model/glassvideo.mp4: 640x384 1 Paper, 8.8ms\n",
            "video 1/1 (frame 173/348) /content/drive/MyDrive/Garbage_detection_model/glassvideo.mp4: 640x384 (no detections), 8.6ms\n",
            "video 1/1 (frame 174/348) /content/drive/MyDrive/Garbage_detection_model/glassvideo.mp4: 640x384 1 Paper, 8.5ms\n",
            "video 1/1 (frame 175/348) /content/drive/MyDrive/Garbage_detection_model/glassvideo.mp4: 640x384 1 Paper, 9.0ms\n",
            "video 1/1 (frame 176/348) /content/drive/MyDrive/Garbage_detection_model/glassvideo.mp4: 640x384 (no detections), 8.9ms\n",
            "video 1/1 (frame 177/348) /content/drive/MyDrive/Garbage_detection_model/glassvideo.mp4: 640x384 (no detections), 7.4ms\n",
            "video 1/1 (frame 178/348) /content/drive/MyDrive/Garbage_detection_model/glassvideo.mp4: 640x384 (no detections), 9.1ms\n",
            "video 1/1 (frame 179/348) /content/drive/MyDrive/Garbage_detection_model/glassvideo.mp4: 640x384 (no detections), 7.1ms\n",
            "video 1/1 (frame 180/348) /content/drive/MyDrive/Garbage_detection_model/glassvideo.mp4: 640x384 (no detections), 9.3ms\n",
            "video 1/1 (frame 181/348) /content/drive/MyDrive/Garbage_detection_model/glassvideo.mp4: 640x384 (no detections), 8.1ms\n",
            "video 1/1 (frame 182/348) /content/drive/MyDrive/Garbage_detection_model/glassvideo.mp4: 640x384 (no detections), 8.1ms\n",
            "video 1/1 (frame 183/348) /content/drive/MyDrive/Garbage_detection_model/glassvideo.mp4: 640x384 (no detections), 9.0ms\n",
            "video 1/1 (frame 184/348) /content/drive/MyDrive/Garbage_detection_model/glassvideo.mp4: 640x384 (no detections), 9.7ms\n",
            "video 1/1 (frame 185/348) /content/drive/MyDrive/Garbage_detection_model/glassvideo.mp4: 640x384 (no detections), 6.9ms\n",
            "video 1/1 (frame 186/348) /content/drive/MyDrive/Garbage_detection_model/glassvideo.mp4: 640x384 1 Paper, 8.1ms\n",
            "video 1/1 (frame 187/348) /content/drive/MyDrive/Garbage_detection_model/glassvideo.mp4: 640x384 (no detections), 8.1ms\n",
            "video 1/1 (frame 188/348) /content/drive/MyDrive/Garbage_detection_model/glassvideo.mp4: 640x384 (no detections), 9.4ms\n",
            "video 1/1 (frame 189/348) /content/drive/MyDrive/Garbage_detection_model/glassvideo.mp4: 640x384 (no detections), 6.8ms\n",
            "video 1/1 (frame 190/348) /content/drive/MyDrive/Garbage_detection_model/glassvideo.mp4: 640x384 (no detections), 8.5ms\n",
            "video 1/1 (frame 191/348) /content/drive/MyDrive/Garbage_detection_model/glassvideo.mp4: 640x384 (no detections), 8.4ms\n",
            "video 1/1 (frame 192/348) /content/drive/MyDrive/Garbage_detection_model/glassvideo.mp4: 640x384 (no detections), 9.6ms\n",
            "video 1/1 (frame 193/348) /content/drive/MyDrive/Garbage_detection_model/glassvideo.mp4: 640x384 (no detections), 6.8ms\n",
            "video 1/1 (frame 194/348) /content/drive/MyDrive/Garbage_detection_model/glassvideo.mp4: 640x384 (no detections), 8.3ms\n",
            "video 1/1 (frame 195/348) /content/drive/MyDrive/Garbage_detection_model/glassvideo.mp4: 640x384 (no detections), 8.2ms\n",
            "video 1/1 (frame 196/348) /content/drive/MyDrive/Garbage_detection_model/glassvideo.mp4: 640x384 (no detections), 8.2ms\n",
            "video 1/1 (frame 197/348) /content/drive/MyDrive/Garbage_detection_model/glassvideo.mp4: 640x384 (no detections), 13.5ms\n",
            "video 1/1 (frame 198/348) /content/drive/MyDrive/Garbage_detection_model/glassvideo.mp4: 640x384 (no detections), 12.0ms\n",
            "video 1/1 (frame 199/348) /content/drive/MyDrive/Garbage_detection_model/glassvideo.mp4: 640x384 (no detections), 17.0ms\n",
            "video 1/1 (frame 200/348) /content/drive/MyDrive/Garbage_detection_model/glassvideo.mp4: 640x384 1 Paper, 8.4ms\n",
            "video 1/1 (frame 201/348) /content/drive/MyDrive/Garbage_detection_model/glassvideo.mp4: 640x384 (no detections), 13.1ms\n",
            "video 1/1 (frame 202/348) /content/drive/MyDrive/Garbage_detection_model/glassvideo.mp4: 640x384 (no detections), 10.2ms\n",
            "video 1/1 (frame 203/348) /content/drive/MyDrive/Garbage_detection_model/glassvideo.mp4: 640x384 1 Paper, 11.9ms\n",
            "video 1/1 (frame 204/348) /content/drive/MyDrive/Garbage_detection_model/glassvideo.mp4: 640x384 1 Paper, 8.9ms\n",
            "video 1/1 (frame 205/348) /content/drive/MyDrive/Garbage_detection_model/glassvideo.mp4: 640x384 (no detections), 10.0ms\n",
            "video 1/1 (frame 206/348) /content/drive/MyDrive/Garbage_detection_model/glassvideo.mp4: 640x384 (no detections), 12.1ms\n",
            "video 1/1 (frame 207/348) /content/drive/MyDrive/Garbage_detection_model/glassvideo.mp4: 640x384 (no detections), 9.5ms\n",
            "video 1/1 (frame 208/348) /content/drive/MyDrive/Garbage_detection_model/glassvideo.mp4: 640x384 1 Paper, 10.0ms\n",
            "video 1/1 (frame 209/348) /content/drive/MyDrive/Garbage_detection_model/glassvideo.mp4: 640x384 1 Paper, 11.4ms\n",
            "video 1/1 (frame 210/348) /content/drive/MyDrive/Garbage_detection_model/glassvideo.mp4: 640x384 1 Paper, 10.5ms\n",
            "video 1/1 (frame 211/348) /content/drive/MyDrive/Garbage_detection_model/glassvideo.mp4: 640x384 1 Paper, 14.1ms\n",
            "video 1/1 (frame 212/348) /content/drive/MyDrive/Garbage_detection_model/glassvideo.mp4: 640x384 1 Paper, 8.4ms\n",
            "video 1/1 (frame 213/348) /content/drive/MyDrive/Garbage_detection_model/glassvideo.mp4: 640x384 1 Paper, 15.8ms\n",
            "video 1/1 (frame 214/348) /content/drive/MyDrive/Garbage_detection_model/glassvideo.mp4: 640x384 1 Paper, 8.3ms\n",
            "video 1/1 (frame 215/348) /content/drive/MyDrive/Garbage_detection_model/glassvideo.mp4: 640x384 1 Paper, 12.9ms\n",
            "video 1/1 (frame 216/348) /content/drive/MyDrive/Garbage_detection_model/glassvideo.mp4: 640x384 (no detections), 8.8ms\n",
            "video 1/1 (frame 217/348) /content/drive/MyDrive/Garbage_detection_model/glassvideo.mp4: 640x384 1 Paper, 9.5ms\n",
            "video 1/1 (frame 218/348) /content/drive/MyDrive/Garbage_detection_model/glassvideo.mp4: 640x384 1 Paper, 11.7ms\n",
            "video 1/1 (frame 219/348) /content/drive/MyDrive/Garbage_detection_model/glassvideo.mp4: 640x384 1 cardboard, 16.0ms\n",
            "video 1/1 (frame 220/348) /content/drive/MyDrive/Garbage_detection_model/glassvideo.mp4: 640x384 1 Paper, 9.3ms\n",
            "video 1/1 (frame 221/348) /content/drive/MyDrive/Garbage_detection_model/glassvideo.mp4: 640x384 1 Paper, 9.8ms\n",
            "video 1/1 (frame 222/348) /content/drive/MyDrive/Garbage_detection_model/glassvideo.mp4: 640x384 (no detections), 8.2ms\n",
            "video 1/1 (frame 223/348) /content/drive/MyDrive/Garbage_detection_model/glassvideo.mp4: 640x384 1 Paper, 9.4ms\n",
            "video 1/1 (frame 224/348) /content/drive/MyDrive/Garbage_detection_model/glassvideo.mp4: 640x384 1 Paper, 9.3ms\n",
            "video 1/1 (frame 225/348) /content/drive/MyDrive/Garbage_detection_model/glassvideo.mp4: 640x384 1 Paper, 9.6ms\n",
            "video 1/1 (frame 226/348) /content/drive/MyDrive/Garbage_detection_model/glassvideo.mp4: 640x384 (no detections), 9.1ms\n",
            "video 1/1 (frame 227/348) /content/drive/MyDrive/Garbage_detection_model/glassvideo.mp4: 640x384 1 Paper, 9.3ms\n",
            "video 1/1 (frame 228/348) /content/drive/MyDrive/Garbage_detection_model/glassvideo.mp4: 640x384 1 Paper, 10.8ms\n",
            "video 1/1 (frame 229/348) /content/drive/MyDrive/Garbage_detection_model/glassvideo.mp4: 640x384 1 Paper, 11.7ms\n",
            "video 1/1 (frame 230/348) /content/drive/MyDrive/Garbage_detection_model/glassvideo.mp4: 640x384 (no detections), 10.4ms\n",
            "video 1/1 (frame 231/348) /content/drive/MyDrive/Garbage_detection_model/glassvideo.mp4: 640x384 (no detections), 9.5ms\n",
            "video 1/1 (frame 232/348) /content/drive/MyDrive/Garbage_detection_model/glassvideo.mp4: 640x384 (no detections), 18.2ms\n",
            "video 1/1 (frame 233/348) /content/drive/MyDrive/Garbage_detection_model/glassvideo.mp4: 640x384 (no detections), 9.4ms\n",
            "video 1/1 (frame 234/348) /content/drive/MyDrive/Garbage_detection_model/glassvideo.mp4: 640x384 (no detections), 10.4ms\n",
            "video 1/1 (frame 235/348) /content/drive/MyDrive/Garbage_detection_model/glassvideo.mp4: 640x384 (no detections), 9.4ms\n",
            "video 1/1 (frame 236/348) /content/drive/MyDrive/Garbage_detection_model/glassvideo.mp4: 640x384 (no detections), 9.7ms\n",
            "video 1/1 (frame 237/348) /content/drive/MyDrive/Garbage_detection_model/glassvideo.mp4: 640x384 (no detections), 17.2ms\n",
            "video 1/1 (frame 238/348) /content/drive/MyDrive/Garbage_detection_model/glassvideo.mp4: 640x384 (no detections), 10.4ms\n",
            "video 1/1 (frame 239/348) /content/drive/MyDrive/Garbage_detection_model/glassvideo.mp4: 640x384 (no detections), 9.0ms\n",
            "video 1/1 (frame 240/348) /content/drive/MyDrive/Garbage_detection_model/glassvideo.mp4: 640x384 (no detections), 8.1ms\n",
            "video 1/1 (frame 241/348) /content/drive/MyDrive/Garbage_detection_model/glassvideo.mp4: 640x384 (no detections), 9.6ms\n",
            "video 1/1 (frame 242/348) /content/drive/MyDrive/Garbage_detection_model/glassvideo.mp4: 640x384 (no detections), 11.6ms\n",
            "video 1/1 (frame 243/348) /content/drive/MyDrive/Garbage_detection_model/glassvideo.mp4: 640x384 (no detections), 13.9ms\n",
            "video 1/1 (frame 244/348) /content/drive/MyDrive/Garbage_detection_model/glassvideo.mp4: 640x384 (no detections), 16.4ms\n",
            "video 1/1 (frame 245/348) /content/drive/MyDrive/Garbage_detection_model/glassvideo.mp4: 640x384 (no detections), 9.6ms\n",
            "video 1/1 (frame 246/348) /content/drive/MyDrive/Garbage_detection_model/glassvideo.mp4: 640x384 (no detections), 8.3ms\n",
            "video 1/1 (frame 247/348) /content/drive/MyDrive/Garbage_detection_model/glassvideo.mp4: 640x384 (no detections), 13.2ms\n",
            "video 1/1 (frame 248/348) /content/drive/MyDrive/Garbage_detection_model/glassvideo.mp4: 640x384 (no detections), 12.7ms\n",
            "video 1/1 (frame 249/348) /content/drive/MyDrive/Garbage_detection_model/glassvideo.mp4: 640x384 (no detections), 9.8ms\n",
            "video 1/1 (frame 250/348) /content/drive/MyDrive/Garbage_detection_model/glassvideo.mp4: 640x384 (no detections), 11.2ms\n",
            "video 1/1 (frame 251/348) /content/drive/MyDrive/Garbage_detection_model/glassvideo.mp4: 640x384 (no detections), 11.5ms\n",
            "video 1/1 (frame 252/348) /content/drive/MyDrive/Garbage_detection_model/glassvideo.mp4: 640x384 (no detections), 12.5ms\n",
            "video 1/1 (frame 253/348) /content/drive/MyDrive/Garbage_detection_model/glassvideo.mp4: 640x384 (no detections), 14.7ms\n",
            "video 1/1 (frame 254/348) /content/drive/MyDrive/Garbage_detection_model/glassvideo.mp4: 640x384 1 Paper, 14.7ms\n",
            "video 1/1 (frame 255/348) /content/drive/MyDrive/Garbage_detection_model/glassvideo.mp4: 640x384 1 Paper, 9.9ms\n",
            "video 1/1 (frame 256/348) /content/drive/MyDrive/Garbage_detection_model/glassvideo.mp4: 640x384 (no detections), 9.4ms\n",
            "video 1/1 (frame 257/348) /content/drive/MyDrive/Garbage_detection_model/glassvideo.mp4: 640x384 (no detections), 8.0ms\n",
            "video 1/1 (frame 258/348) /content/drive/MyDrive/Garbage_detection_model/glassvideo.mp4: 640x384 1 Paper, 6.9ms\n",
            "video 1/1 (frame 259/348) /content/drive/MyDrive/Garbage_detection_model/glassvideo.mp4: 640x384 1 Paper, 8.1ms\n",
            "video 1/1 (frame 260/348) /content/drive/MyDrive/Garbage_detection_model/glassvideo.mp4: 640x384 2 Papers, 7.3ms\n",
            "video 1/1 (frame 261/348) /content/drive/MyDrive/Garbage_detection_model/glassvideo.mp4: 640x384 1 Paper, 7.1ms\n",
            "video 1/1 (frame 262/348) /content/drive/MyDrive/Garbage_detection_model/glassvideo.mp4: 640x384 1 Paper, 7.1ms\n",
            "video 1/1 (frame 263/348) /content/drive/MyDrive/Garbage_detection_model/glassvideo.mp4: 640x384 1 Paper, 7.6ms\n",
            "video 1/1 (frame 264/348) /content/drive/MyDrive/Garbage_detection_model/glassvideo.mp4: 640x384 1 Paper, 9.4ms\n",
            "video 1/1 (frame 265/348) /content/drive/MyDrive/Garbage_detection_model/glassvideo.mp4: 640x384 1 Paper, 6.8ms\n",
            "video 1/1 (frame 266/348) /content/drive/MyDrive/Garbage_detection_model/glassvideo.mp4: 640x384 1 Paper, 7.9ms\n",
            "video 1/1 (frame 267/348) /content/drive/MyDrive/Garbage_detection_model/glassvideo.mp4: 640x384 1 Paper, 7.7ms\n",
            "video 1/1 (frame 268/348) /content/drive/MyDrive/Garbage_detection_model/glassvideo.mp4: 640x384 1 Paper, 9.0ms\n",
            "video 1/1 (frame 269/348) /content/drive/MyDrive/Garbage_detection_model/glassvideo.mp4: 640x384 1 Paper, 7.2ms\n",
            "video 1/1 (frame 270/348) /content/drive/MyDrive/Garbage_detection_model/glassvideo.mp4: 640x384 1 Paper, 9.1ms\n",
            "video 1/1 (frame 271/348) /content/drive/MyDrive/Garbage_detection_model/glassvideo.mp4: 640x384 1 Paper, 8.3ms\n",
            "video 1/1 (frame 272/348) /content/drive/MyDrive/Garbage_detection_model/glassvideo.mp4: 640x384 1 Paper, 8.1ms\n",
            "video 1/1 (frame 273/348) /content/drive/MyDrive/Garbage_detection_model/glassvideo.mp4: 640x384 1 Paper, 9.4ms\n",
            "video 1/1 (frame 274/348) /content/drive/MyDrive/Garbage_detection_model/glassvideo.mp4: 640x384 1 Paper, 9.2ms\n",
            "video 1/1 (frame 275/348) /content/drive/MyDrive/Garbage_detection_model/glassvideo.mp4: 640x384 1 Paper, 8.0ms\n",
            "video 1/1 (frame 276/348) /content/drive/MyDrive/Garbage_detection_model/glassvideo.mp4: 640x384 1 Paper, 8.9ms\n",
            "video 1/1 (frame 277/348) /content/drive/MyDrive/Garbage_detection_model/glassvideo.mp4: 640x384 1 Paper, 9.5ms\n",
            "video 1/1 (frame 278/348) /content/drive/MyDrive/Garbage_detection_model/glassvideo.mp4: 640x384 1 Paper, 11.8ms\n",
            "video 1/1 (frame 279/348) /content/drive/MyDrive/Garbage_detection_model/glassvideo.mp4: 640x384 1 Paper, 8.3ms\n",
            "video 1/1 (frame 280/348) /content/drive/MyDrive/Garbage_detection_model/glassvideo.mp4: 640x384 1 Paper, 6.8ms\n",
            "video 1/1 (frame 281/348) /content/drive/MyDrive/Garbage_detection_model/glassvideo.mp4: 640x384 1 Paper, 7.8ms\n",
            "video 1/1 (frame 282/348) /content/drive/MyDrive/Garbage_detection_model/glassvideo.mp4: 640x384 1 Paper, 6.7ms\n",
            "video 1/1 (frame 283/348) /content/drive/MyDrive/Garbage_detection_model/glassvideo.mp4: 640x384 1 Paper, 7.3ms\n",
            "video 1/1 (frame 284/348) /content/drive/MyDrive/Garbage_detection_model/glassvideo.mp4: 640x384 1 Paper, 6.9ms\n",
            "video 1/1 (frame 285/348) /content/drive/MyDrive/Garbage_detection_model/glassvideo.mp4: 640x384 1 Paper, 8.1ms\n",
            "video 1/1 (frame 286/348) /content/drive/MyDrive/Garbage_detection_model/glassvideo.mp4: 640x384 1 Paper, 7.5ms\n",
            "video 1/1 (frame 287/348) /content/drive/MyDrive/Garbage_detection_model/glassvideo.mp4: 640x384 1 Paper, 7.2ms\n",
            "video 1/1 (frame 288/348) /content/drive/MyDrive/Garbage_detection_model/glassvideo.mp4: 640x384 1 Paper, 8.8ms\n",
            "video 1/1 (frame 289/348) /content/drive/MyDrive/Garbage_detection_model/glassvideo.mp4: 640x384 1 Paper, 9.6ms\n",
            "video 1/1 (frame 290/348) /content/drive/MyDrive/Garbage_detection_model/glassvideo.mp4: 640x384 1 Paper, 8.0ms\n",
            "video 1/1 (frame 291/348) /content/drive/MyDrive/Garbage_detection_model/glassvideo.mp4: 640x384 1 Paper, 8.5ms\n",
            "video 1/1 (frame 292/348) /content/drive/MyDrive/Garbage_detection_model/glassvideo.mp4: 640x384 1 Paper, 7.3ms\n",
            "video 1/1 (frame 293/348) /content/drive/MyDrive/Garbage_detection_model/glassvideo.mp4: 640x384 1 Paper, 9.8ms\n",
            "video 1/1 (frame 294/348) /content/drive/MyDrive/Garbage_detection_model/glassvideo.mp4: 640x384 1 Paper, 9.5ms\n",
            "video 1/1 (frame 295/348) /content/drive/MyDrive/Garbage_detection_model/glassvideo.mp4: 640x384 1 Paper, 6.9ms\n",
            "video 1/1 (frame 296/348) /content/drive/MyDrive/Garbage_detection_model/glassvideo.mp4: 640x384 1 Paper, 6.8ms\n",
            "video 1/1 (frame 297/348) /content/drive/MyDrive/Garbage_detection_model/glassvideo.mp4: 640x384 1 Paper, 9.6ms\n",
            "video 1/1 (frame 298/348) /content/drive/MyDrive/Garbage_detection_model/glassvideo.mp4: 640x384 1 Paper, 7.0ms\n",
            "video 1/1 (frame 299/348) /content/drive/MyDrive/Garbage_detection_model/glassvideo.mp4: 640x384 1 Paper, 7.3ms\n",
            "video 1/1 (frame 300/348) /content/drive/MyDrive/Garbage_detection_model/glassvideo.mp4: 640x384 1 Paper, 7.3ms\n",
            "video 1/1 (frame 301/348) /content/drive/MyDrive/Garbage_detection_model/glassvideo.mp4: 640x384 1 Paper, 8.1ms\n",
            "video 1/1 (frame 302/348) /content/drive/MyDrive/Garbage_detection_model/glassvideo.mp4: 640x384 1 Paper, 11.6ms\n",
            "video 1/1 (frame 303/348) /content/drive/MyDrive/Garbage_detection_model/glassvideo.mp4: 640x384 1 Paper, 7.6ms\n",
            "video 1/1 (frame 304/348) /content/drive/MyDrive/Garbage_detection_model/glassvideo.mp4: 640x384 1 Paper, 6.9ms\n",
            "video 1/1 (frame 305/348) /content/drive/MyDrive/Garbage_detection_model/glassvideo.mp4: 640x384 1 Paper, 8.2ms\n",
            "video 1/1 (frame 306/348) /content/drive/MyDrive/Garbage_detection_model/glassvideo.mp4: 640x384 1 Paper, 7.1ms\n",
            "video 1/1 (frame 307/348) /content/drive/MyDrive/Garbage_detection_model/glassvideo.mp4: 640x384 1 Paper, 7.6ms\n",
            "video 1/1 (frame 308/348) /content/drive/MyDrive/Garbage_detection_model/glassvideo.mp4: 640x384 1 Paper, 7.6ms\n",
            "video 1/1 (frame 309/348) /content/drive/MyDrive/Garbage_detection_model/glassvideo.mp4: 640x384 1 Paper, 6.7ms\n",
            "video 1/1 (frame 310/348) /content/drive/MyDrive/Garbage_detection_model/glassvideo.mp4: 640x384 (no detections), 8.0ms\n",
            "video 1/1 (frame 311/348) /content/drive/MyDrive/Garbage_detection_model/glassvideo.mp4: 640x384 1 Paper, 8.8ms\n",
            "video 1/1 (frame 312/348) /content/drive/MyDrive/Garbage_detection_model/glassvideo.mp4: 640x384 1 Paper, 1 cardboard, 10.8ms\n",
            "video 1/1 (frame 313/348) /content/drive/MyDrive/Garbage_detection_model/glassvideo.mp4: 640x384 1 Paper, 9.1ms\n",
            "video 1/1 (frame 314/348) /content/drive/MyDrive/Garbage_detection_model/glassvideo.mp4: 640x384 1 Paper, 8.0ms\n",
            "video 1/1 (frame 315/348) /content/drive/MyDrive/Garbage_detection_model/glassvideo.mp4: 640x384 1 Paper, 9.2ms\n",
            "video 1/1 (frame 316/348) /content/drive/MyDrive/Garbage_detection_model/glassvideo.mp4: 640x384 1 Paper, 8.3ms\n",
            "video 1/1 (frame 317/348) /content/drive/MyDrive/Garbage_detection_model/glassvideo.mp4: 640x384 1 Paper, 7.1ms\n",
            "video 1/1 (frame 318/348) /content/drive/MyDrive/Garbage_detection_model/glassvideo.mp4: 640x384 1 Paper, 8.8ms\n",
            "video 1/1 (frame 319/348) /content/drive/MyDrive/Garbage_detection_model/glassvideo.mp4: 640x384 1 Paper, 10.4ms\n",
            "video 1/1 (frame 320/348) /content/drive/MyDrive/Garbage_detection_model/glassvideo.mp4: 640x384 1 Paper, 10.1ms\n",
            "video 1/1 (frame 321/348) /content/drive/MyDrive/Garbage_detection_model/glassvideo.mp4: 640x384 1 Paper, 7.2ms\n",
            "video 1/1 (frame 322/348) /content/drive/MyDrive/Garbage_detection_model/glassvideo.mp4: 640x384 1 Paper, 7.1ms\n",
            "video 1/1 (frame 323/348) /content/drive/MyDrive/Garbage_detection_model/glassvideo.mp4: 640x384 1 Paper, 8.0ms\n",
            "video 1/1 (frame 324/348) /content/drive/MyDrive/Garbage_detection_model/glassvideo.mp4: 640x384 1 Paper, 10.1ms\n",
            "video 1/1 (frame 325/348) /content/drive/MyDrive/Garbage_detection_model/glassvideo.mp4: 640x384 1 Paper, 8.8ms\n",
            "video 1/1 (frame 326/348) /content/drive/MyDrive/Garbage_detection_model/glassvideo.mp4: 640x384 1 Paper, 15.9ms\n",
            "video 1/1 (frame 327/348) /content/drive/MyDrive/Garbage_detection_model/glassvideo.mp4: 640x384 1 Paper, 11.0ms\n",
            "video 1/1 (frame 328/348) /content/drive/MyDrive/Garbage_detection_model/glassvideo.mp4: 640x384 1 Paper, 10.9ms\n",
            "video 1/1 (frame 329/348) /content/drive/MyDrive/Garbage_detection_model/glassvideo.mp4: 640x384 1 Paper, 7.9ms\n",
            "video 1/1 (frame 330/348) /content/drive/MyDrive/Garbage_detection_model/glassvideo.mp4: 640x384 1 Paper, 1 cardboard, 9.7ms\n",
            "video 1/1 (frame 331/348) /content/drive/MyDrive/Garbage_detection_model/glassvideo.mp4: 640x384 1 Paper, 7.7ms\n",
            "video 1/1 (frame 332/348) /content/drive/MyDrive/Garbage_detection_model/glassvideo.mp4: 640x384 1 Paper, 9.2ms\n",
            "video 1/1 (frame 333/348) /content/drive/MyDrive/Garbage_detection_model/glassvideo.mp4: 640x384 1 Paper, 7.7ms\n",
            "video 1/1 (frame 334/348) /content/drive/MyDrive/Garbage_detection_model/glassvideo.mp4: 640x384 1 Paper, 9.7ms\n",
            "video 1/1 (frame 335/348) /content/drive/MyDrive/Garbage_detection_model/glassvideo.mp4: 640x384 1 Paper, 8.4ms\n",
            "video 1/1 (frame 336/348) /content/drive/MyDrive/Garbage_detection_model/glassvideo.mp4: 640x384 1 Paper, 10.7ms\n",
            "video 1/1 (frame 337/348) /content/drive/MyDrive/Garbage_detection_model/glassvideo.mp4: 640x384 1 Paper, 8.9ms\n",
            "video 1/1 (frame 338/348) /content/drive/MyDrive/Garbage_detection_model/glassvideo.mp4: 640x384 1 Paper, 7.2ms\n",
            "video 1/1 (frame 339/348) /content/drive/MyDrive/Garbage_detection_model/glassvideo.mp4: 640x384 1 Paper, 8.8ms\n",
            "video 1/1 (frame 340/348) /content/drive/MyDrive/Garbage_detection_model/glassvideo.mp4: 640x384 1 Paper, 7.1ms\n",
            "video 1/1 (frame 341/348) /content/drive/MyDrive/Garbage_detection_model/glassvideo.mp4: 640x384 1 Paper, 6.9ms\n",
            "video 1/1 (frame 342/348) /content/drive/MyDrive/Garbage_detection_model/glassvideo.mp4: 640x384 1 Paper, 6.8ms\n",
            "video 1/1 (frame 343/348) /content/drive/MyDrive/Garbage_detection_model/glassvideo.mp4: 640x384 1 Paper, 7.0ms\n",
            "video 1/1 (frame 344/348) /content/drive/MyDrive/Garbage_detection_model/glassvideo.mp4: 640x384 1 Paper, 6.9ms\n",
            "video 1/1 (frame 345/348) /content/drive/MyDrive/Garbage_detection_model/glassvideo.mp4: 640x384 1 Paper, 6.7ms\n",
            "video 1/1 (frame 346/348) /content/drive/MyDrive/Garbage_detection_model/glassvideo.mp4: 640x384 1 Paper, 6.6ms\n",
            "video 1/1 (frame 347/348) /content/drive/MyDrive/Garbage_detection_model/glassvideo.mp4: 640x384 1 Paper, 6.8ms\n",
            "video 1/1 (frame 348/348) /content/drive/MyDrive/Garbage_detection_model/glassvideo.mp4: 640x384 1 Paper, 7.1ms\n",
            "Speed: 3.5ms preprocess, 9.2ms inference, 1.2ms postprocess per image at shape (1, 3, 640, 384)\n",
            "Results saved to \u001b[1mruns/detect/predict17\u001b[0m\n",
            "151 labels saved to runs/detect/predict17/labels\n",
            "Output video not found at: /content/runs/detect/predict/glassvideo.mp4\n",
            "Checking default locations...\n",
            "Could not find output video. Check these locations manually:\n",
            "- /content/runs/detect/predict/glassvideo.mp4\n",
            "- /content/drive/MyDrive/Garbage_detection_model/run/detect/predict/glassvideo.mp4\n",
            "- /content/ultralytics/runs/detect/predict/glassvideo.mp4\n"
          ]
        }
      ],
      "source": [
        "from ultralytics import YOLO\n",
        "from IPython.display import HTML, display\n",
        "from base64 import b64encode\n",
        "import os\n",
        "\n",
        "# Load model\n",
        "model = YOLO('/content/drive/MyDrive/Garbage_detection_model/run/detect/garbage_detection_colab/weights/best.pt')\n",
        "\n",
        "# Video prediction\n",
        "video_path = '/content/drive/MyDrive/Garbage_detection_model/glassvideo.mp4'\n",
        "video_results = model.predict(\n",
        "    source=video_path,\n",
        "    conf=0.45,\n",
        "    save=True,         # Saves to 'runs/detect/predict'\n",
        "    save_txt=True,\n",
        "    imgsz=640,\n",
        "    stream=True,\n",
        "    show_conf=True\n",
        ")\n",
        "\n",
        "# Process all frames (needed for stream=True)\n",
        "for _ in video_results:\n",
        "    pass\n",
        "\n",
        "# Find the saved video (it will have the same name as input but in the predict folder)\n",
        "input_filename = os.path.basename(video_path)\n",
        "output_dir = '/content/runs/detect/predict/'  # Default YOLO output directory\n",
        "output_path = os.path.join(output_dir, input_filename)\n",
        "\n",
        "# Alternative output path if you're using save_dir parameter\n",
        "# output_dir = '/content/drive/MyDrive/Garbage_detection_model/run/detect/predict/'\n",
        "# output_path = os.path.join(output_dir, input_filename)\n",
        "\n",
        "# Verify the file exists\n",
        "if os.path.exists(output_path):\n",
        "    # Display processed video in Colab\n",
        "    mp4 = open(output_path, 'rb').read()\n",
        "    display(HTML(f\"\"\"\n",
        "    <video width=600 controls autoplay loop>\n",
        "      <source src=\"data:video/mp4;base64,{b64encode(mp4).decode()}\">\n",
        "    </video>\n",
        "    \"\"\"))\n",
        "else:\n",
        "    print(f\"Output video not found at: {output_path}\")\n",
        "    print(\"Checking default locations...\")\n",
        "    # Try to find the file in other likely locations\n",
        "    possible_locations = [\n",
        "        '/content/runs/detect/predict/',\n",
        "        '/content/drive/MyDrive/Garbage_detection_model/run/detect/predict/',\n",
        "        '/content/ultralytics/runs/detect/predict/'\n",
        "    ]\n",
        "\n",
        "    found = False\n",
        "    for loc in possible_locations:\n",
        "        test_path = os.path.join(loc, input_filename)\n",
        "        if os.path.exists(test_path):\n",
        "            mp4 = open(test_path, 'rb').read()\n",
        "            display(HTML(f\"\"\"\n",
        "            <video width=600 controls autoplay loop>\n",
        "              <source src=\"data:video/mp4;base64,{b64encode(mp4).decode()}\">\n",
        "            </video>\n",
        "            \"\"\"))\n",
        "            found = True\n",
        "            break\n",
        "\n",
        "    if not found:\n",
        "        print(\"Could not find output video. Check these locations manually:\")\n",
        "        for loc in possible_locations:\n",
        "            print(f\"- {os.path.join(loc, input_filename)}\")"
      ]
    },
    {
      "cell_type": "markdown",
      "metadata": {
        "id": "0j5PzdWHlQjW"
      },
      "source": [
        "# **Finally object Detection was successfully executed..**"
      ]
    }
  ],
  "metadata": {
    "accelerator": "GPU",
    "colab": {
      "gpuType": "T4",
      "provenance": [],
      "mount_file_id": "1oX42z0S_3gOtRo1QEWMYQ60YMUzC8FNF",
      "authorship_tag": "ABX9TyNTZ8ilOKR1SNqhzVuLSkld",
      "include_colab_link": true
    },
    "kernelspec": {
      "display_name": "Python 3",
      "name": "python3"
    },
    "language_info": {
      "name": "python"
    }
  },
  "nbformat": 4,
  "nbformat_minor": 0
}